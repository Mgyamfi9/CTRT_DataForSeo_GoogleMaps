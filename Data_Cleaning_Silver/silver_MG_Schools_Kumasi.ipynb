{
 "cells": [
  {
   "cell_type": "code",
   "execution_count": 2,
   "metadata": {},
   "outputs": [],
   "source": [
    "import pandas as pd\n",
    "from sqlalchemy import create_engine\n",
    "\n",
    "# Define your connection details\n",
    "server = 'ctrt-sqlserver.database.windows.net'\n",
    "database = 'ctrt-sqldb'\n",
    "username = 'CTRT-admin'\n",
    "password = 'Hso2Ghana'\n",
    "table_name = 'bronze.MG_Schools_Kumasi' \n",
    "port = '1433'  # Default is 1433, e.g., '1433'\n",
    "\n",
    "# Create the connection string for SQLAlchemy\n",
    "connection_string = (\n",
    "    f\"mssql+pyodbc://{username}:{password}@{server}:{port}/{database}\"\n",
    "    \"?driver=ODBC+Driver+17+for+SQL+Server\"\n",
    ")\n",
    "\n",
    "# Establish the connection using SQLAlchemy create_engine\n",
    "engine = create_engine(connection_string, echo=False)  # Set echo=True for debugging\n",
    "\n",
    "# Define the query\n",
    "query = f\"SELECT * FROM {table_name}\"\n",
    "\n",
    "# Execute the query and load the data into a DataFrame\n",
    "df = pd.read_sql(query, engine)\n"
   ]
  },
  {
   "cell_type": "code",
   "execution_count": 3,
   "metadata": {},
   "outputs": [
    {
     "data": {
      "text/html": [
       "<div>\n",
       "<style scoped>\n",
       "    .dataframe tbody tr th:only-of-type {\n",
       "        vertical-align: middle;\n",
       "    }\n",
       "\n",
       "    .dataframe tbody tr th {\n",
       "        vertical-align: top;\n",
       "    }\n",
       "\n",
       "    .dataframe thead th {\n",
       "        text-align: right;\n",
       "    }\n",
       "</style>\n",
       "<table border=\"1\" class=\"dataframe\">\n",
       "  <thead>\n",
       "    <tr style=\"text-align: right;\">\n",
       "      <th></th>\n",
       "      <th>type</th>\n",
       "      <th>rank_group</th>\n",
       "      <th>rank_absolute</th>\n",
       "      <th>domain</th>\n",
       "      <th>title</th>\n",
       "      <th>url</th>\n",
       "      <th>contact_url</th>\n",
       "      <th>hotel_rating</th>\n",
       "      <th>price_level</th>\n",
       "      <th>snippet</th>\n",
       "      <th>address</th>\n",
       "      <th>place_id</th>\n",
       "      <th>phone</th>\n",
       "      <th>main_image</th>\n",
       "      <th>total_photos</th>\n",
       "      <th>category</th>\n",
       "      <th>additional_categories</th>\n",
       "      <th>category_ids</th>\n",
       "      <th>feature_id</th>\n",
       "      <th>cid</th>\n",
       "      <th>latitude</th>\n",
       "      <th>longitude</th>\n",
       "      <th>is_claimed</th>\n",
       "      <th>local_justifications</th>\n",
       "      <th>is_directory_item</th>\n",
       "      <th>rating_rating_type</th>\n",
       "      <th>rating_value</th>\n",
       "      <th>rating_votes_count</th>\n",
       "      <th>rating_rating_max</th>\n",
       "      <th>rating_distribution_1</th>\n",
       "      <th>rating_distribution_2</th>\n",
       "      <th>rating_distribution_3</th>\n",
       "      <th>rating_distribution_4</th>\n",
       "      <th>rating_distribution_5</th>\n",
       "      <th>address_info_borough</th>\n",
       "      <th>address_info_address</th>\n",
       "      <th>address_info_city</th>\n",
       "      <th>address_info_zip</th>\n",
       "      <th>address_info_region</th>\n",
       "      <th>address_info_country_code</th>\n",
       "      <th>work_hours_timetable_sunday</th>\n",
       "      <th>work_hours_timetable_monday</th>\n",
       "      <th>work_hours_timetable_tuesday</th>\n",
       "      <th>work_hours_timetable_wednesday</th>\n",
       "      <th>work_hours_timetable_thursday</th>\n",
       "      <th>work_hours_timetable_friday</th>\n",
       "      <th>work_hours_timetable_saturday</th>\n",
       "      <th>work_hours_current_status</th>\n",
       "      <th>work_hours_timetable</th>\n",
       "      <th>rating</th>\n",
       "      <th>rating_distribution</th>\n",
       "    </tr>\n",
       "  </thead>\n",
       "  <tbody>\n",
       "    <tr>\n",
       "      <th>0</th>\n",
       "      <td>maps_search</td>\n",
       "      <td>1</td>\n",
       "      <td>1</td>\n",
       "      <td>stlouisshs.edu.gh</td>\n",
       "      <td>St Louis Senior High School</td>\n",
       "      <td>http://stlouisshs.edu.gh/</td>\n",
       "      <td>None</td>\n",
       "      <td>None</td>\n",
       "      <td>None</td>\n",
       "      <td>Kumasi</td>\n",
       "      <td>Kumasi</td>\n",
       "      <td>ChIJSZr1S_aU2w8Rzk9ErYIKEyU</td>\n",
       "      <td>+233547800131</td>\n",
       "      <td>https://lh5.googleusercontent.com/p/AF1QipMh8C...</td>\n",
       "      <td>49.0</td>\n",
       "      <td>High school</td>\n",
       "      <td>None</td>\n",
       "      <td></td>\n",
       "      <td>0xfdb94f64bf59a49:0x25130a82ad444fce</td>\n",
       "      <td>2671490560329797582</td>\n",
       "      <td>6.695009</td>\n",
       "      <td>-1.545156</td>\n",
       "      <td>True</td>\n",
       "      <td>None</td>\n",
       "      <td>False</td>\n",
       "      <td>Max5</td>\n",
       "      <td>4.4</td>\n",
       "      <td>164.0</td>\n",
       "      <td>None</td>\n",
       "      <td>8.0</td>\n",
       "      <td>10.0</td>\n",
       "      <td>3.0</td>\n",
       "      <td>32.0</td>\n",
       "      <td>111.0</td>\n",
       "      <td>None</td>\n",
       "      <td>None</td>\n",
       "      <td>Kumasi</td>\n",
       "      <td>None</td>\n",
       "      <td>None</td>\n",
       "      <td>GH</td>\n",
       "      <td></td>\n",
       "      <td></td>\n",
       "      <td></td>\n",
       "      <td></td>\n",
       "      <td></td>\n",
       "      <td></td>\n",
       "      <td></td>\n",
       "      <td>open</td>\n",
       "      <td>None</td>\n",
       "      <td>None</td>\n",
       "      <td>None</td>\n",
       "    </tr>\n",
       "    <tr>\n",
       "      <th>1</th>\n",
       "      <td>maps_search</td>\n",
       "      <td>2</td>\n",
       "      <td>2</td>\n",
       "      <td>None</td>\n",
       "      <td>Asanteman Senior High</td>\n",
       "      <td>None</td>\n",
       "      <td>None</td>\n",
       "      <td>None</td>\n",
       "      <td>None</td>\n",
       "      <td>Kumasi</td>\n",
       "      <td>Kumasi</td>\n",
       "      <td>ChIJd4Hs_VmW2w8Ry65BE21ygtI</td>\n",
       "      <td>+233322023707</td>\n",
       "      <td>https://lh5.googleusercontent.com/p/AF1QipP79s...</td>\n",
       "      <td>72.0</td>\n",
       "      <td>School</td>\n",
       "      <td>None</td>\n",
       "      <td></td>\n",
       "      <td>0xfdb9659fdec8177:0xd282726d1341aecb</td>\n",
       "      <td>15168812307737325259</td>\n",
       "      <td>6.709111</td>\n",
       "      <td>-1.628301</td>\n",
       "      <td>True</td>\n",
       "      <td>None</td>\n",
       "      <td>False</td>\n",
       "      <td>Max5</td>\n",
       "      <td>4.2</td>\n",
       "      <td>96.0</td>\n",
       "      <td>None</td>\n",
       "      <td>11.0</td>\n",
       "      <td>3.0</td>\n",
       "      <td>6.0</td>\n",
       "      <td>11.0</td>\n",
       "      <td>65.0</td>\n",
       "      <td>Ampabame</td>\n",
       "      <td>None</td>\n",
       "      <td>Kumasi</td>\n",
       "      <td>None</td>\n",
       "      <td>None</td>\n",
       "      <td>GH</td>\n",
       "      <td>None</td>\n",
       "      <td></td>\n",
       "      <td></td>\n",
       "      <td></td>\n",
       "      <td></td>\n",
       "      <td></td>\n",
       "      <td>None</td>\n",
       "      <td>open</td>\n",
       "      <td>None</td>\n",
       "      <td>None</td>\n",
       "      <td>None</td>\n",
       "    </tr>\n",
       "    <tr>\n",
       "      <th>2</th>\n",
       "      <td>maps_search</td>\n",
       "      <td>3</td>\n",
       "      <td>3</td>\n",
       "      <td>otshs.edu.gh</td>\n",
       "      <td>Osei Tutu Senior High School</td>\n",
       "      <td>http://otshs.edu.gh/</td>\n",
       "      <td>None</td>\n",
       "      <td>None</td>\n",
       "      <td>None</td>\n",
       "      <td>Akropong, Kumasi</td>\n",
       "      <td>Akropong, Kumasi</td>\n",
       "      <td>ChIJnYaW_YSY2w8R_Cf8X-Uzv2E</td>\n",
       "      <td>+233547472237</td>\n",
       "      <td>https://lh5.googleusercontent.com/p/AF1QipMu7b...</td>\n",
       "      <td>270.0</td>\n",
       "      <td>High school</td>\n",
       "      <td>None</td>\n",
       "      <td></td>\n",
       "      <td>0xfdb9884fd96869d:0x61bf33e55ffc27fc</td>\n",
       "      <td>7043405402481633276</td>\n",
       "      <td>6.737566</td>\n",
       "      <td>-1.722830</td>\n",
       "      <td>True</td>\n",
       "      <td>None</td>\n",
       "      <td>False</td>\n",
       "      <td>Max5</td>\n",
       "      <td>4.4</td>\n",
       "      <td>174.0</td>\n",
       "      <td>None</td>\n",
       "      <td>13.0</td>\n",
       "      <td>5.0</td>\n",
       "      <td>12.0</td>\n",
       "      <td>13.0</td>\n",
       "      <td>131.0</td>\n",
       "      <td>None</td>\n",
       "      <td>Akropong</td>\n",
       "      <td>Kumasi</td>\n",
       "      <td>None</td>\n",
       "      <td>None</td>\n",
       "      <td>GH</td>\n",
       "      <td>None</td>\n",
       "      <td></td>\n",
       "      <td></td>\n",
       "      <td></td>\n",
       "      <td></td>\n",
       "      <td></td>\n",
       "      <td>None</td>\n",
       "      <td>open</td>\n",
       "      <td>None</td>\n",
       "      <td>None</td>\n",
       "      <td>None</td>\n",
       "    </tr>\n",
       "    <tr>\n",
       "      <th>3</th>\n",
       "      <td>maps_search</td>\n",
       "      <td>4</td>\n",
       "      <td>4</td>\n",
       "      <td>None</td>\n",
       "      <td>Nkawie Senior High Technical School</td>\n",
       "      <td>None</td>\n",
       "      <td>None</td>\n",
       "      <td>None</td>\n",
       "      <td>None</td>\n",
       "      <td>Nkawie Rd, Kumasi</td>\n",
       "      <td>Nkawie Rd, Kumasi</td>\n",
       "      <td>ChIJIxM4lnGe2w8Rl7LuOxGeN9k</td>\n",
       "      <td>None</td>\n",
       "      <td>https://lh5.googleusercontent.com/p/AF1QipMhTm...</td>\n",
       "      <td>49.0</td>\n",
       "      <td>Senior high school</td>\n",
       "      <td>None</td>\n",
       "      <td></td>\n",
       "      <td>0xfdb9e7196381323:0xd9379e113beeb297</td>\n",
       "      <td>15652152826806579863</td>\n",
       "      <td>6.668694</td>\n",
       "      <td>-1.805830</td>\n",
       "      <td>True</td>\n",
       "      <td>None</td>\n",
       "      <td>False</td>\n",
       "      <td>Max5</td>\n",
       "      <td>4.2</td>\n",
       "      <td>40.0</td>\n",
       "      <td>None</td>\n",
       "      <td>1.0</td>\n",
       "      <td>4.0</td>\n",
       "      <td>4.0</td>\n",
       "      <td>9.0</td>\n",
       "      <td>22.0</td>\n",
       "      <td>None</td>\n",
       "      <td>Nkawie Rd</td>\n",
       "      <td>Kumasi</td>\n",
       "      <td>None</td>\n",
       "      <td>None</td>\n",
       "      <td>GH</td>\n",
       "      <td>None</td>\n",
       "      <td></td>\n",
       "      <td></td>\n",
       "      <td></td>\n",
       "      <td></td>\n",
       "      <td></td>\n",
       "      <td>None</td>\n",
       "      <td>open</td>\n",
       "      <td>None</td>\n",
       "      <td>None</td>\n",
       "      <td>None</td>\n",
       "    </tr>\n",
       "    <tr>\n",
       "      <th>4</th>\n",
       "      <td>maps_search</td>\n",
       "      <td>5</td>\n",
       "      <td>5</td>\n",
       "      <td>None</td>\n",
       "      <td>Adu Gyamfi Senior High School</td>\n",
       "      <td>None</td>\n",
       "      <td>None</td>\n",
       "      <td>None</td>\n",
       "      <td>None</td>\n",
       "      <td>Road, Gyamase</td>\n",
       "      <td>Road, Gyamase</td>\n",
       "      <td>ChIJ6eMEgBrJ2w8RIj9nn5x-I0o</td>\n",
       "      <td>None</td>\n",
       "      <td>https://lh5.googleusercontent.com/p/AF1QipOgey...</td>\n",
       "      <td>31.0</td>\n",
       "      <td>School</td>\n",
       "      <td>None</td>\n",
       "      <td></td>\n",
       "      <td>0xfdbc91a8004e3e9:0x4a237e9c9f673f22</td>\n",
       "      <td>5342252794145881890</td>\n",
       "      <td>6.972225</td>\n",
       "      <td>-1.470116</td>\n",
       "      <td>True</td>\n",
       "      <td>None</td>\n",
       "      <td>False</td>\n",
       "      <td>Max5</td>\n",
       "      <td>4.3</td>\n",
       "      <td>45.0</td>\n",
       "      <td>None</td>\n",
       "      <td>4.0</td>\n",
       "      <td>1.0</td>\n",
       "      <td>3.0</td>\n",
       "      <td>7.0</td>\n",
       "      <td>30.0</td>\n",
       "      <td>None</td>\n",
       "      <td>Road</td>\n",
       "      <td>Gyamase</td>\n",
       "      <td>None</td>\n",
       "      <td>None</td>\n",
       "      <td>GH</td>\n",
       "      <td></td>\n",
       "      <td></td>\n",
       "      <td></td>\n",
       "      <td></td>\n",
       "      <td></td>\n",
       "      <td></td>\n",
       "      <td></td>\n",
       "      <td>open</td>\n",
       "      <td>None</td>\n",
       "      <td>None</td>\n",
       "      <td>None</td>\n",
       "    </tr>\n",
       "  </tbody>\n",
       "</table>\n",
       "</div>"
      ],
      "text/plain": [
       "          type  rank_group  rank_absolute             domain  \\\n",
       "0  maps_search           1              1  stlouisshs.edu.gh   \n",
       "1  maps_search           2              2               None   \n",
       "2  maps_search           3              3       otshs.edu.gh   \n",
       "3  maps_search           4              4               None   \n",
       "4  maps_search           5              5               None   \n",
       "\n",
       "                                 title                        url contact_url  \\\n",
       "0          St Louis Senior High School  http://stlouisshs.edu.gh/        None   \n",
       "1                Asanteman Senior High                       None        None   \n",
       "2         Osei Tutu Senior High School       http://otshs.edu.gh/        None   \n",
       "3  Nkawie Senior High Technical School                       None        None   \n",
       "4        Adu Gyamfi Senior High School                       None        None   \n",
       "\n",
       "  hotel_rating price_level            snippet            address  \\\n",
       "0         None        None             Kumasi             Kumasi   \n",
       "1         None        None             Kumasi             Kumasi   \n",
       "2         None        None   Akropong, Kumasi   Akropong, Kumasi   \n",
       "3         None        None  Nkawie Rd, Kumasi  Nkawie Rd, Kumasi   \n",
       "4         None        None      Road, Gyamase      Road, Gyamase   \n",
       "\n",
       "                      place_id          phone  \\\n",
       "0  ChIJSZr1S_aU2w8Rzk9ErYIKEyU  +233547800131   \n",
       "1  ChIJd4Hs_VmW2w8Ry65BE21ygtI  +233322023707   \n",
       "2  ChIJnYaW_YSY2w8R_Cf8X-Uzv2E  +233547472237   \n",
       "3  ChIJIxM4lnGe2w8Rl7LuOxGeN9k           None   \n",
       "4  ChIJ6eMEgBrJ2w8RIj9nn5x-I0o           None   \n",
       "\n",
       "                                          main_image  total_photos  \\\n",
       "0  https://lh5.googleusercontent.com/p/AF1QipMh8C...          49.0   \n",
       "1  https://lh5.googleusercontent.com/p/AF1QipP79s...          72.0   \n",
       "2  https://lh5.googleusercontent.com/p/AF1QipMu7b...         270.0   \n",
       "3  https://lh5.googleusercontent.com/p/AF1QipMhTm...          49.0   \n",
       "4  https://lh5.googleusercontent.com/p/AF1QipOgey...          31.0   \n",
       "\n",
       "             category additional_categories category_ids  \\\n",
       "0         High school                  None                \n",
       "1              School                  None                \n",
       "2         High school                  None                \n",
       "3  Senior high school                  None                \n",
       "4              School                  None                \n",
       "\n",
       "                             feature_id                   cid  latitude  \\\n",
       "0  0xfdb94f64bf59a49:0x25130a82ad444fce   2671490560329797582  6.695009   \n",
       "1  0xfdb9659fdec8177:0xd282726d1341aecb  15168812307737325259  6.709111   \n",
       "2  0xfdb9884fd96869d:0x61bf33e55ffc27fc   7043405402481633276  6.737566   \n",
       "3  0xfdb9e7196381323:0xd9379e113beeb297  15652152826806579863  6.668694   \n",
       "4  0xfdbc91a8004e3e9:0x4a237e9c9f673f22   5342252794145881890  6.972225   \n",
       "\n",
       "   longitude  is_claimed local_justifications  is_directory_item  \\\n",
       "0  -1.545156        True                 None              False   \n",
       "1  -1.628301        True                 None              False   \n",
       "2  -1.722830        True                 None              False   \n",
       "3  -1.805830        True                 None              False   \n",
       "4  -1.470116        True                 None              False   \n",
       "\n",
       "  rating_rating_type  rating_value  rating_votes_count rating_rating_max  \\\n",
       "0               Max5           4.4               164.0              None   \n",
       "1               Max5           4.2                96.0              None   \n",
       "2               Max5           4.4               174.0              None   \n",
       "3               Max5           4.2                40.0              None   \n",
       "4               Max5           4.3                45.0              None   \n",
       "\n",
       "   rating_distribution_1  rating_distribution_2  rating_distribution_3  \\\n",
       "0                    8.0                   10.0                    3.0   \n",
       "1                   11.0                    3.0                    6.0   \n",
       "2                   13.0                    5.0                   12.0   \n",
       "3                    1.0                    4.0                    4.0   \n",
       "4                    4.0                    1.0                    3.0   \n",
       "\n",
       "   rating_distribution_4  rating_distribution_5 address_info_borough  \\\n",
       "0                   32.0                  111.0                 None   \n",
       "1                   11.0                   65.0             Ampabame   \n",
       "2                   13.0                  131.0                 None   \n",
       "3                    9.0                   22.0                 None   \n",
       "4                    7.0                   30.0                 None   \n",
       "\n",
       "  address_info_address address_info_city address_info_zip address_info_region  \\\n",
       "0                 None            Kumasi             None                None   \n",
       "1                 None            Kumasi             None                None   \n",
       "2             Akropong            Kumasi             None                None   \n",
       "3            Nkawie Rd            Kumasi             None                None   \n",
       "4                 Road           Gyamase             None                None   \n",
       "\n",
       "  address_info_country_code work_hours_timetable_sunday  \\\n",
       "0                        GH                               \n",
       "1                        GH                        None   \n",
       "2                        GH                        None   \n",
       "3                        GH                        None   \n",
       "4                        GH                               \n",
       "\n",
       "  work_hours_timetable_monday work_hours_timetable_tuesday  \\\n",
       "0                                                            \n",
       "1                                                            \n",
       "2                                                            \n",
       "3                                                            \n",
       "4                                                            \n",
       "\n",
       "  work_hours_timetable_wednesday work_hours_timetable_thursday  \\\n",
       "0                                                                \n",
       "1                                                                \n",
       "2                                                                \n",
       "3                                                                \n",
       "4                                                                \n",
       "\n",
       "  work_hours_timetable_friday work_hours_timetable_saturday  \\\n",
       "0                                                             \n",
       "1                                                      None   \n",
       "2                                                      None   \n",
       "3                                                      None   \n",
       "4                                                             \n",
       "\n",
       "  work_hours_current_status work_hours_timetable rating rating_distribution  \n",
       "0                      open                 None   None                None  \n",
       "1                      open                 None   None                None  \n",
       "2                      open                 None   None                None  \n",
       "3                      open                 None   None                None  \n",
       "4                      open                 None   None                None  "
      ]
     },
     "execution_count": 3,
     "metadata": {},
     "output_type": "execute_result"
    }
   ],
   "source": [
    "pd.set_option('display.max_columns', None)\n",
    "df.head(5)"
   ]
  },
  {
   "cell_type": "code",
   "execution_count": 4,
   "metadata": {},
   "outputs": [
    {
     "data": {
      "text/html": [
       "<div>\n",
       "<style scoped>\n",
       "    .dataframe tbody tr th:only-of-type {\n",
       "        vertical-align: middle;\n",
       "    }\n",
       "\n",
       "    .dataframe tbody tr th {\n",
       "        vertical-align: top;\n",
       "    }\n",
       "\n",
       "    .dataframe thead th {\n",
       "        text-align: right;\n",
       "    }\n",
       "</style>\n",
       "<table border=\"1\" class=\"dataframe\">\n",
       "  <thead>\n",
       "    <tr style=\"text-align: right;\">\n",
       "      <th></th>\n",
       "      <th>type</th>\n",
       "      <th>rank_group</th>\n",
       "      <th>rank_absolute</th>\n",
       "      <th>domain</th>\n",
       "      <th>title</th>\n",
       "      <th>url</th>\n",
       "      <th>contact_url</th>\n",
       "      <th>hotel_rating</th>\n",
       "      <th>price_level</th>\n",
       "      <th>snippet</th>\n",
       "      <th>address</th>\n",
       "      <th>place_id</th>\n",
       "      <th>phone</th>\n",
       "      <th>main_image</th>\n",
       "      <th>total_photos</th>\n",
       "      <th>category</th>\n",
       "      <th>additional_categories</th>\n",
       "      <th>category_ids</th>\n",
       "      <th>feature_id</th>\n",
       "      <th>cid</th>\n",
       "      <th>latitude</th>\n",
       "      <th>longitude</th>\n",
       "      <th>is_claimed</th>\n",
       "      <th>local_justifications</th>\n",
       "      <th>is_directory_item</th>\n",
       "      <th>rating_rating_type</th>\n",
       "      <th>rating_value</th>\n",
       "      <th>rating_votes_count</th>\n",
       "      <th>rating_rating_max</th>\n",
       "      <th>rating_distribution_1</th>\n",
       "      <th>rating_distribution_2</th>\n",
       "      <th>rating_distribution_3</th>\n",
       "      <th>rating_distribution_4</th>\n",
       "      <th>rating_distribution_5</th>\n",
       "      <th>address_info_borough</th>\n",
       "      <th>address_info_address</th>\n",
       "      <th>address_info_city</th>\n",
       "      <th>address_info_zip</th>\n",
       "      <th>address_info_region</th>\n",
       "      <th>address_info_country_code</th>\n",
       "      <th>work_hours_timetable_sunday</th>\n",
       "      <th>work_hours_timetable_monday</th>\n",
       "      <th>work_hours_timetable_tuesday</th>\n",
       "      <th>work_hours_timetable_wednesday</th>\n",
       "      <th>work_hours_timetable_thursday</th>\n",
       "      <th>work_hours_timetable_friday</th>\n",
       "      <th>work_hours_timetable_saturday</th>\n",
       "      <th>work_hours_current_status</th>\n",
       "      <th>work_hours_timetable</th>\n",
       "      <th>rating</th>\n",
       "      <th>rating_distribution</th>\n",
       "    </tr>\n",
       "  </thead>\n",
       "  <tbody>\n",
       "    <tr>\n",
       "      <th>0</th>\n",
       "      <td>maps_search</td>\n",
       "      <td>1</td>\n",
       "      <td>1</td>\n",
       "      <td>stlouisshs.edu.gh</td>\n",
       "      <td>St Louis Senior High School</td>\n",
       "      <td>http://stlouisshs.edu.gh/</td>\n",
       "      <td>None</td>\n",
       "      <td>None</td>\n",
       "      <td>None</td>\n",
       "      <td>Kumasi</td>\n",
       "      <td>Kumasi</td>\n",
       "      <td>ChIJSZr1S_aU2w8Rzk9ErYIKEyU</td>\n",
       "      <td>+233547800131</td>\n",
       "      <td>https://lh5.googleusercontent.com/p/AF1QipMh8C...</td>\n",
       "      <td>49.0</td>\n",
       "      <td>High school</td>\n",
       "      <td>None</td>\n",
       "      <td></td>\n",
       "      <td>0xfdb94f64bf59a49:0x25130a82ad444fce</td>\n",
       "      <td>2671490560329797582</td>\n",
       "      <td>6.695009</td>\n",
       "      <td>-1.545156</td>\n",
       "      <td>True</td>\n",
       "      <td>None</td>\n",
       "      <td>False</td>\n",
       "      <td>Max5</td>\n",
       "      <td>4.4</td>\n",
       "      <td>164.0</td>\n",
       "      <td>None</td>\n",
       "      <td>8.0</td>\n",
       "      <td>10.0</td>\n",
       "      <td>3.0</td>\n",
       "      <td>32.0</td>\n",
       "      <td>111.0</td>\n",
       "      <td>None</td>\n",
       "      <td>None</td>\n",
       "      <td>Kumasi</td>\n",
       "      <td>None</td>\n",
       "      <td>None</td>\n",
       "      <td>GH</td>\n",
       "      <td></td>\n",
       "      <td></td>\n",
       "      <td></td>\n",
       "      <td></td>\n",
       "      <td></td>\n",
       "      <td></td>\n",
       "      <td></td>\n",
       "      <td>open</td>\n",
       "      <td>None</td>\n",
       "      <td>None</td>\n",
       "      <td>None</td>\n",
       "    </tr>\n",
       "    <tr>\n",
       "      <th>1</th>\n",
       "      <td>maps_search</td>\n",
       "      <td>2</td>\n",
       "      <td>2</td>\n",
       "      <td>None</td>\n",
       "      <td>Asanteman Senior High</td>\n",
       "      <td>None</td>\n",
       "      <td>None</td>\n",
       "      <td>None</td>\n",
       "      <td>None</td>\n",
       "      <td>Kumasi</td>\n",
       "      <td>Kumasi</td>\n",
       "      <td>ChIJd4Hs_VmW2w8Ry65BE21ygtI</td>\n",
       "      <td>+233322023707</td>\n",
       "      <td>https://lh5.googleusercontent.com/p/AF1QipP79s...</td>\n",
       "      <td>72.0</td>\n",
       "      <td>School</td>\n",
       "      <td>None</td>\n",
       "      <td></td>\n",
       "      <td>0xfdb9659fdec8177:0xd282726d1341aecb</td>\n",
       "      <td>15168812307737325259</td>\n",
       "      <td>6.709111</td>\n",
       "      <td>-1.628301</td>\n",
       "      <td>True</td>\n",
       "      <td>None</td>\n",
       "      <td>False</td>\n",
       "      <td>Max5</td>\n",
       "      <td>4.2</td>\n",
       "      <td>96.0</td>\n",
       "      <td>None</td>\n",
       "      <td>11.0</td>\n",
       "      <td>3.0</td>\n",
       "      <td>6.0</td>\n",
       "      <td>11.0</td>\n",
       "      <td>65.0</td>\n",
       "      <td>Ampabame</td>\n",
       "      <td>None</td>\n",
       "      <td>Kumasi</td>\n",
       "      <td>None</td>\n",
       "      <td>None</td>\n",
       "      <td>GH</td>\n",
       "      <td>None</td>\n",
       "      <td></td>\n",
       "      <td></td>\n",
       "      <td></td>\n",
       "      <td></td>\n",
       "      <td></td>\n",
       "      <td>None</td>\n",
       "      <td>open</td>\n",
       "      <td>None</td>\n",
       "      <td>None</td>\n",
       "      <td>None</td>\n",
       "    </tr>\n",
       "    <tr>\n",
       "      <th>2</th>\n",
       "      <td>maps_search</td>\n",
       "      <td>3</td>\n",
       "      <td>3</td>\n",
       "      <td>otshs.edu.gh</td>\n",
       "      <td>Osei Tutu Senior High School</td>\n",
       "      <td>http://otshs.edu.gh/</td>\n",
       "      <td>None</td>\n",
       "      <td>None</td>\n",
       "      <td>None</td>\n",
       "      <td>Akropong, Kumasi</td>\n",
       "      <td>Akropong, Kumasi</td>\n",
       "      <td>ChIJnYaW_YSY2w8R_Cf8X-Uzv2E</td>\n",
       "      <td>+233547472237</td>\n",
       "      <td>https://lh5.googleusercontent.com/p/AF1QipMu7b...</td>\n",
       "      <td>270.0</td>\n",
       "      <td>High school</td>\n",
       "      <td>None</td>\n",
       "      <td></td>\n",
       "      <td>0xfdb9884fd96869d:0x61bf33e55ffc27fc</td>\n",
       "      <td>7043405402481633276</td>\n",
       "      <td>6.737566</td>\n",
       "      <td>-1.722830</td>\n",
       "      <td>True</td>\n",
       "      <td>None</td>\n",
       "      <td>False</td>\n",
       "      <td>Max5</td>\n",
       "      <td>4.4</td>\n",
       "      <td>174.0</td>\n",
       "      <td>None</td>\n",
       "      <td>13.0</td>\n",
       "      <td>5.0</td>\n",
       "      <td>12.0</td>\n",
       "      <td>13.0</td>\n",
       "      <td>131.0</td>\n",
       "      <td>None</td>\n",
       "      <td>Akropong</td>\n",
       "      <td>Kumasi</td>\n",
       "      <td>None</td>\n",
       "      <td>None</td>\n",
       "      <td>GH</td>\n",
       "      <td>None</td>\n",
       "      <td></td>\n",
       "      <td></td>\n",
       "      <td></td>\n",
       "      <td></td>\n",
       "      <td></td>\n",
       "      <td>None</td>\n",
       "      <td>open</td>\n",
       "      <td>None</td>\n",
       "      <td>None</td>\n",
       "      <td>None</td>\n",
       "    </tr>\n",
       "    <tr>\n",
       "      <th>3</th>\n",
       "      <td>maps_search</td>\n",
       "      <td>4</td>\n",
       "      <td>4</td>\n",
       "      <td>None</td>\n",
       "      <td>Nkawie Senior High Technical School</td>\n",
       "      <td>None</td>\n",
       "      <td>None</td>\n",
       "      <td>None</td>\n",
       "      <td>None</td>\n",
       "      <td>Nkawie Rd, Kumasi</td>\n",
       "      <td>Nkawie Rd, Kumasi</td>\n",
       "      <td>ChIJIxM4lnGe2w8Rl7LuOxGeN9k</td>\n",
       "      <td>None</td>\n",
       "      <td>https://lh5.googleusercontent.com/p/AF1QipMhTm...</td>\n",
       "      <td>49.0</td>\n",
       "      <td>Senior high school</td>\n",
       "      <td>None</td>\n",
       "      <td></td>\n",
       "      <td>0xfdb9e7196381323:0xd9379e113beeb297</td>\n",
       "      <td>15652152826806579863</td>\n",
       "      <td>6.668694</td>\n",
       "      <td>-1.805830</td>\n",
       "      <td>True</td>\n",
       "      <td>None</td>\n",
       "      <td>False</td>\n",
       "      <td>Max5</td>\n",
       "      <td>4.2</td>\n",
       "      <td>40.0</td>\n",
       "      <td>None</td>\n",
       "      <td>1.0</td>\n",
       "      <td>4.0</td>\n",
       "      <td>4.0</td>\n",
       "      <td>9.0</td>\n",
       "      <td>22.0</td>\n",
       "      <td>None</td>\n",
       "      <td>Nkawie Rd</td>\n",
       "      <td>Kumasi</td>\n",
       "      <td>None</td>\n",
       "      <td>None</td>\n",
       "      <td>GH</td>\n",
       "      <td>None</td>\n",
       "      <td></td>\n",
       "      <td></td>\n",
       "      <td></td>\n",
       "      <td></td>\n",
       "      <td></td>\n",
       "      <td>None</td>\n",
       "      <td>open</td>\n",
       "      <td>None</td>\n",
       "      <td>None</td>\n",
       "      <td>None</td>\n",
       "    </tr>\n",
       "    <tr>\n",
       "      <th>4</th>\n",
       "      <td>maps_search</td>\n",
       "      <td>5</td>\n",
       "      <td>5</td>\n",
       "      <td>None</td>\n",
       "      <td>Adu Gyamfi Senior High School</td>\n",
       "      <td>None</td>\n",
       "      <td>None</td>\n",
       "      <td>None</td>\n",
       "      <td>None</td>\n",
       "      <td>Road, Gyamase</td>\n",
       "      <td>Road, Gyamase</td>\n",
       "      <td>ChIJ6eMEgBrJ2w8RIj9nn5x-I0o</td>\n",
       "      <td>None</td>\n",
       "      <td>https://lh5.googleusercontent.com/p/AF1QipOgey...</td>\n",
       "      <td>31.0</td>\n",
       "      <td>School</td>\n",
       "      <td>None</td>\n",
       "      <td></td>\n",
       "      <td>0xfdbc91a8004e3e9:0x4a237e9c9f673f22</td>\n",
       "      <td>5342252794145881890</td>\n",
       "      <td>6.972225</td>\n",
       "      <td>-1.470116</td>\n",
       "      <td>True</td>\n",
       "      <td>None</td>\n",
       "      <td>False</td>\n",
       "      <td>Max5</td>\n",
       "      <td>4.3</td>\n",
       "      <td>45.0</td>\n",
       "      <td>None</td>\n",
       "      <td>4.0</td>\n",
       "      <td>1.0</td>\n",
       "      <td>3.0</td>\n",
       "      <td>7.0</td>\n",
       "      <td>30.0</td>\n",
       "      <td>None</td>\n",
       "      <td>Road</td>\n",
       "      <td>Gyamase</td>\n",
       "      <td>None</td>\n",
       "      <td>None</td>\n",
       "      <td>GH</td>\n",
       "      <td></td>\n",
       "      <td></td>\n",
       "      <td></td>\n",
       "      <td></td>\n",
       "      <td></td>\n",
       "      <td></td>\n",
       "      <td></td>\n",
       "      <td>open</td>\n",
       "      <td>None</td>\n",
       "      <td>None</td>\n",
       "      <td>None</td>\n",
       "    </tr>\n",
       "  </tbody>\n",
       "</table>\n",
       "</div>"
      ],
      "text/plain": [
       "          type  rank_group  rank_absolute             domain  \\\n",
       "0  maps_search           1              1  stlouisshs.edu.gh   \n",
       "1  maps_search           2              2               None   \n",
       "2  maps_search           3              3       otshs.edu.gh   \n",
       "3  maps_search           4              4               None   \n",
       "4  maps_search           5              5               None   \n",
       "\n",
       "                                 title                        url contact_url  \\\n",
       "0          St Louis Senior High School  http://stlouisshs.edu.gh/        None   \n",
       "1                Asanteman Senior High                       None        None   \n",
       "2         Osei Tutu Senior High School       http://otshs.edu.gh/        None   \n",
       "3  Nkawie Senior High Technical School                       None        None   \n",
       "4        Adu Gyamfi Senior High School                       None        None   \n",
       "\n",
       "  hotel_rating price_level            snippet            address  \\\n",
       "0         None        None             Kumasi             Kumasi   \n",
       "1         None        None             Kumasi             Kumasi   \n",
       "2         None        None   Akropong, Kumasi   Akropong, Kumasi   \n",
       "3         None        None  Nkawie Rd, Kumasi  Nkawie Rd, Kumasi   \n",
       "4         None        None      Road, Gyamase      Road, Gyamase   \n",
       "\n",
       "                      place_id          phone  \\\n",
       "0  ChIJSZr1S_aU2w8Rzk9ErYIKEyU  +233547800131   \n",
       "1  ChIJd4Hs_VmW2w8Ry65BE21ygtI  +233322023707   \n",
       "2  ChIJnYaW_YSY2w8R_Cf8X-Uzv2E  +233547472237   \n",
       "3  ChIJIxM4lnGe2w8Rl7LuOxGeN9k           None   \n",
       "4  ChIJ6eMEgBrJ2w8RIj9nn5x-I0o           None   \n",
       "\n",
       "                                          main_image  total_photos  \\\n",
       "0  https://lh5.googleusercontent.com/p/AF1QipMh8C...          49.0   \n",
       "1  https://lh5.googleusercontent.com/p/AF1QipP79s...          72.0   \n",
       "2  https://lh5.googleusercontent.com/p/AF1QipMu7b...         270.0   \n",
       "3  https://lh5.googleusercontent.com/p/AF1QipMhTm...          49.0   \n",
       "4  https://lh5.googleusercontent.com/p/AF1QipOgey...          31.0   \n",
       "\n",
       "             category additional_categories category_ids  \\\n",
       "0         High school                  None                \n",
       "1              School                  None                \n",
       "2         High school                  None                \n",
       "3  Senior high school                  None                \n",
       "4              School                  None                \n",
       "\n",
       "                             feature_id                   cid  latitude  \\\n",
       "0  0xfdb94f64bf59a49:0x25130a82ad444fce   2671490560329797582  6.695009   \n",
       "1  0xfdb9659fdec8177:0xd282726d1341aecb  15168812307737325259  6.709111   \n",
       "2  0xfdb9884fd96869d:0x61bf33e55ffc27fc   7043405402481633276  6.737566   \n",
       "3  0xfdb9e7196381323:0xd9379e113beeb297  15652152826806579863  6.668694   \n",
       "4  0xfdbc91a8004e3e9:0x4a237e9c9f673f22   5342252794145881890  6.972225   \n",
       "\n",
       "   longitude  is_claimed local_justifications  is_directory_item  \\\n",
       "0  -1.545156        True                 None              False   \n",
       "1  -1.628301        True                 None              False   \n",
       "2  -1.722830        True                 None              False   \n",
       "3  -1.805830        True                 None              False   \n",
       "4  -1.470116        True                 None              False   \n",
       "\n",
       "  rating_rating_type  rating_value  rating_votes_count rating_rating_max  \\\n",
       "0               Max5           4.4               164.0              None   \n",
       "1               Max5           4.2                96.0              None   \n",
       "2               Max5           4.4               174.0              None   \n",
       "3               Max5           4.2                40.0              None   \n",
       "4               Max5           4.3                45.0              None   \n",
       "\n",
       "   rating_distribution_1  rating_distribution_2  rating_distribution_3  \\\n",
       "0                    8.0                   10.0                    3.0   \n",
       "1                   11.0                    3.0                    6.0   \n",
       "2                   13.0                    5.0                   12.0   \n",
       "3                    1.0                    4.0                    4.0   \n",
       "4                    4.0                    1.0                    3.0   \n",
       "\n",
       "   rating_distribution_4  rating_distribution_5 address_info_borough  \\\n",
       "0                   32.0                  111.0                 None   \n",
       "1                   11.0                   65.0             Ampabame   \n",
       "2                   13.0                  131.0                 None   \n",
       "3                    9.0                   22.0                 None   \n",
       "4                    7.0                   30.0                 None   \n",
       "\n",
       "  address_info_address address_info_city address_info_zip address_info_region  \\\n",
       "0                 None            Kumasi             None                None   \n",
       "1                 None            Kumasi             None                None   \n",
       "2             Akropong            Kumasi             None                None   \n",
       "3            Nkawie Rd            Kumasi             None                None   \n",
       "4                 Road           Gyamase             None                None   \n",
       "\n",
       "  address_info_country_code work_hours_timetable_sunday  \\\n",
       "0                        GH                               \n",
       "1                        GH                        None   \n",
       "2                        GH                        None   \n",
       "3                        GH                        None   \n",
       "4                        GH                               \n",
       "\n",
       "  work_hours_timetable_monday work_hours_timetable_tuesday  \\\n",
       "0                                                            \n",
       "1                                                            \n",
       "2                                                            \n",
       "3                                                            \n",
       "4                                                            \n",
       "\n",
       "  work_hours_timetable_wednesday work_hours_timetable_thursday  \\\n",
       "0                                                                \n",
       "1                                                                \n",
       "2                                                                \n",
       "3                                                                \n",
       "4                                                                \n",
       "\n",
       "  work_hours_timetable_friday work_hours_timetable_saturday  \\\n",
       "0                                                             \n",
       "1                                                      None   \n",
       "2                                                      None   \n",
       "3                                                      None   \n",
       "4                                                             \n",
       "\n",
       "  work_hours_current_status work_hours_timetable rating rating_distribution  \n",
       "0                      open                 None   None                None  \n",
       "1                      open                 None   None                None  \n",
       "2                      open                 None   None                None  \n",
       "3                      open                 None   None                None  \n",
       "4                      open                 None   None                None  "
      ]
     },
     "execution_count": 4,
     "metadata": {},
     "output_type": "execute_result"
    }
   ],
   "source": [
    "df.head()"
   ]
  },
  {
   "cell_type": "code",
   "execution_count": 5,
   "metadata": {},
   "outputs": [
    {
     "data": {
      "text/html": [
       "<div>\n",
       "<style scoped>\n",
       "    .dataframe tbody tr th:only-of-type {\n",
       "        vertical-align: middle;\n",
       "    }\n",
       "\n",
       "    .dataframe tbody tr th {\n",
       "        vertical-align: top;\n",
       "    }\n",
       "\n",
       "    .dataframe thead th {\n",
       "        text-align: right;\n",
       "    }\n",
       "</style>\n",
       "<table border=\"1\" class=\"dataframe\">\n",
       "  <thead>\n",
       "    <tr style=\"text-align: right;\">\n",
       "      <th></th>\n",
       "      <th>type</th>\n",
       "      <th>rank_group</th>\n",
       "      <th>rank_absolute</th>\n",
       "      <th>domain</th>\n",
       "      <th>title</th>\n",
       "      <th>url</th>\n",
       "      <th>contact_url</th>\n",
       "      <th>hotel_rating</th>\n",
       "      <th>price_level</th>\n",
       "      <th>snippet</th>\n",
       "      <th>address</th>\n",
       "      <th>place_id</th>\n",
       "      <th>phone</th>\n",
       "      <th>main_image</th>\n",
       "      <th>total_photos</th>\n",
       "      <th>category</th>\n",
       "      <th>additional_categories</th>\n",
       "      <th>category_ids</th>\n",
       "      <th>feature_id</th>\n",
       "      <th>cid</th>\n",
       "      <th>latitude</th>\n",
       "      <th>longitude</th>\n",
       "      <th>is_claimed</th>\n",
       "      <th>local_justifications</th>\n",
       "      <th>is_directory_item</th>\n",
       "      <th>rating_rating_type</th>\n",
       "      <th>rating_value</th>\n",
       "      <th>rating_votes_count</th>\n",
       "      <th>rating_rating_max</th>\n",
       "      <th>rating_distribution_1</th>\n",
       "      <th>rating_distribution_2</th>\n",
       "      <th>rating_distribution_3</th>\n",
       "      <th>rating_distribution_4</th>\n",
       "      <th>rating_distribution_5</th>\n",
       "      <th>address_info_borough</th>\n",
       "      <th>address_info_address</th>\n",
       "      <th>address_info_city</th>\n",
       "      <th>address_info_zip</th>\n",
       "      <th>address_info_region</th>\n",
       "      <th>address_info_country_code</th>\n",
       "      <th>work_hours_timetable_sunday</th>\n",
       "      <th>work_hours_timetable_monday</th>\n",
       "      <th>work_hours_timetable_tuesday</th>\n",
       "      <th>work_hours_timetable_wednesday</th>\n",
       "      <th>work_hours_timetable_thursday</th>\n",
       "      <th>work_hours_timetable_friday</th>\n",
       "      <th>work_hours_timetable_saturday</th>\n",
       "      <th>work_hours_current_status</th>\n",
       "      <th>work_hours_timetable</th>\n",
       "      <th>rating</th>\n",
       "      <th>rating_distribution</th>\n",
       "    </tr>\n",
       "  </thead>\n",
       "  <tbody>\n",
       "    <tr>\n",
       "      <th>0</th>\n",
       "      <td>maps_search</td>\n",
       "      <td>1</td>\n",
       "      <td>1</td>\n",
       "      <td>stlouisshs.edu.gh</td>\n",
       "      <td>St Louis Senior High School</td>\n",
       "      <td>http://stlouisshs.edu.gh/</td>\n",
       "      <td>None</td>\n",
       "      <td>None</td>\n",
       "      <td>None</td>\n",
       "      <td>Kumasi</td>\n",
       "      <td>Kumasi</td>\n",
       "      <td>ChIJSZr1S_aU2w8Rzk9ErYIKEyU</td>\n",
       "      <td>+233547800131</td>\n",
       "      <td>https://lh5.googleusercontent.com/p/AF1QipMh8C...</td>\n",
       "      <td>49.0</td>\n",
       "      <td>High school</td>\n",
       "      <td>None</td>\n",
       "      <td></td>\n",
       "      <td>0xfdb94f64bf59a49:0x25130a82ad444fce</td>\n",
       "      <td>2671490560329797582</td>\n",
       "      <td>6.695009</td>\n",
       "      <td>-1.545156</td>\n",
       "      <td>True</td>\n",
       "      <td>None</td>\n",
       "      <td>False</td>\n",
       "      <td>Max5</td>\n",
       "      <td>4.4</td>\n",
       "      <td>164.0</td>\n",
       "      <td>None</td>\n",
       "      <td>8.0</td>\n",
       "      <td>10.0</td>\n",
       "      <td>3.0</td>\n",
       "      <td>32.0</td>\n",
       "      <td>111.0</td>\n",
       "      <td>None</td>\n",
       "      <td>None</td>\n",
       "      <td>Kumasi</td>\n",
       "      <td>None</td>\n",
       "      <td>None</td>\n",
       "      <td>GH</td>\n",
       "      <td></td>\n",
       "      <td></td>\n",
       "      <td></td>\n",
       "      <td></td>\n",
       "      <td></td>\n",
       "      <td></td>\n",
       "      <td></td>\n",
       "      <td>open</td>\n",
       "      <td>None</td>\n",
       "      <td>None</td>\n",
       "      <td>None</td>\n",
       "    </tr>\n",
       "    <tr>\n",
       "      <th>1</th>\n",
       "      <td>maps_search</td>\n",
       "      <td>2</td>\n",
       "      <td>2</td>\n",
       "      <td>None</td>\n",
       "      <td>Asanteman Senior High</td>\n",
       "      <td>None</td>\n",
       "      <td>None</td>\n",
       "      <td>None</td>\n",
       "      <td>None</td>\n",
       "      <td>Kumasi</td>\n",
       "      <td>Kumasi</td>\n",
       "      <td>ChIJd4Hs_VmW2w8Ry65BE21ygtI</td>\n",
       "      <td>+233322023707</td>\n",
       "      <td>https://lh5.googleusercontent.com/p/AF1QipP79s...</td>\n",
       "      <td>72.0</td>\n",
       "      <td>School</td>\n",
       "      <td>None</td>\n",
       "      <td></td>\n",
       "      <td>0xfdb9659fdec8177:0xd282726d1341aecb</td>\n",
       "      <td>15168812307737325259</td>\n",
       "      <td>6.709111</td>\n",
       "      <td>-1.628301</td>\n",
       "      <td>True</td>\n",
       "      <td>None</td>\n",
       "      <td>False</td>\n",
       "      <td>Max5</td>\n",
       "      <td>4.2</td>\n",
       "      <td>96.0</td>\n",
       "      <td>None</td>\n",
       "      <td>11.0</td>\n",
       "      <td>3.0</td>\n",
       "      <td>6.0</td>\n",
       "      <td>11.0</td>\n",
       "      <td>65.0</td>\n",
       "      <td>Ampabame</td>\n",
       "      <td>None</td>\n",
       "      <td>Kumasi</td>\n",
       "      <td>None</td>\n",
       "      <td>None</td>\n",
       "      <td>GH</td>\n",
       "      <td>None</td>\n",
       "      <td></td>\n",
       "      <td></td>\n",
       "      <td></td>\n",
       "      <td></td>\n",
       "      <td></td>\n",
       "      <td>None</td>\n",
       "      <td>open</td>\n",
       "      <td>None</td>\n",
       "      <td>None</td>\n",
       "      <td>None</td>\n",
       "    </tr>\n",
       "    <tr>\n",
       "      <th>2</th>\n",
       "      <td>maps_search</td>\n",
       "      <td>3</td>\n",
       "      <td>3</td>\n",
       "      <td>otshs.edu.gh</td>\n",
       "      <td>Osei Tutu Senior High School</td>\n",
       "      <td>http://otshs.edu.gh/</td>\n",
       "      <td>None</td>\n",
       "      <td>None</td>\n",
       "      <td>None</td>\n",
       "      <td>Akropong, Kumasi</td>\n",
       "      <td>Akropong, Kumasi</td>\n",
       "      <td>ChIJnYaW_YSY2w8R_Cf8X-Uzv2E</td>\n",
       "      <td>+233547472237</td>\n",
       "      <td>https://lh5.googleusercontent.com/p/AF1QipMu7b...</td>\n",
       "      <td>270.0</td>\n",
       "      <td>High school</td>\n",
       "      <td>None</td>\n",
       "      <td></td>\n",
       "      <td>0xfdb9884fd96869d:0x61bf33e55ffc27fc</td>\n",
       "      <td>7043405402481633276</td>\n",
       "      <td>6.737566</td>\n",
       "      <td>-1.722830</td>\n",
       "      <td>True</td>\n",
       "      <td>None</td>\n",
       "      <td>False</td>\n",
       "      <td>Max5</td>\n",
       "      <td>4.4</td>\n",
       "      <td>174.0</td>\n",
       "      <td>None</td>\n",
       "      <td>13.0</td>\n",
       "      <td>5.0</td>\n",
       "      <td>12.0</td>\n",
       "      <td>13.0</td>\n",
       "      <td>131.0</td>\n",
       "      <td>None</td>\n",
       "      <td>Akropong</td>\n",
       "      <td>Kumasi</td>\n",
       "      <td>None</td>\n",
       "      <td>None</td>\n",
       "      <td>GH</td>\n",
       "      <td>None</td>\n",
       "      <td></td>\n",
       "      <td></td>\n",
       "      <td></td>\n",
       "      <td></td>\n",
       "      <td></td>\n",
       "      <td>None</td>\n",
       "      <td>open</td>\n",
       "      <td>None</td>\n",
       "      <td>None</td>\n",
       "      <td>None</td>\n",
       "    </tr>\n",
       "    <tr>\n",
       "      <th>3</th>\n",
       "      <td>maps_search</td>\n",
       "      <td>4</td>\n",
       "      <td>4</td>\n",
       "      <td>None</td>\n",
       "      <td>Nkawie Senior High Technical School</td>\n",
       "      <td>None</td>\n",
       "      <td>None</td>\n",
       "      <td>None</td>\n",
       "      <td>None</td>\n",
       "      <td>Nkawie Rd, Kumasi</td>\n",
       "      <td>Nkawie Rd, Kumasi</td>\n",
       "      <td>ChIJIxM4lnGe2w8Rl7LuOxGeN9k</td>\n",
       "      <td>None</td>\n",
       "      <td>https://lh5.googleusercontent.com/p/AF1QipMhTm...</td>\n",
       "      <td>49.0</td>\n",
       "      <td>Senior high school</td>\n",
       "      <td>None</td>\n",
       "      <td></td>\n",
       "      <td>0xfdb9e7196381323:0xd9379e113beeb297</td>\n",
       "      <td>15652152826806579863</td>\n",
       "      <td>6.668694</td>\n",
       "      <td>-1.805830</td>\n",
       "      <td>True</td>\n",
       "      <td>None</td>\n",
       "      <td>False</td>\n",
       "      <td>Max5</td>\n",
       "      <td>4.2</td>\n",
       "      <td>40.0</td>\n",
       "      <td>None</td>\n",
       "      <td>1.0</td>\n",
       "      <td>4.0</td>\n",
       "      <td>4.0</td>\n",
       "      <td>9.0</td>\n",
       "      <td>22.0</td>\n",
       "      <td>None</td>\n",
       "      <td>Nkawie Rd</td>\n",
       "      <td>Kumasi</td>\n",
       "      <td>None</td>\n",
       "      <td>None</td>\n",
       "      <td>GH</td>\n",
       "      <td>None</td>\n",
       "      <td></td>\n",
       "      <td></td>\n",
       "      <td></td>\n",
       "      <td></td>\n",
       "      <td></td>\n",
       "      <td>None</td>\n",
       "      <td>open</td>\n",
       "      <td>None</td>\n",
       "      <td>None</td>\n",
       "      <td>None</td>\n",
       "    </tr>\n",
       "    <tr>\n",
       "      <th>4</th>\n",
       "      <td>maps_search</td>\n",
       "      <td>5</td>\n",
       "      <td>5</td>\n",
       "      <td>None</td>\n",
       "      <td>Adu Gyamfi Senior High School</td>\n",
       "      <td>None</td>\n",
       "      <td>None</td>\n",
       "      <td>None</td>\n",
       "      <td>None</td>\n",
       "      <td>Road, Gyamase</td>\n",
       "      <td>Road, Gyamase</td>\n",
       "      <td>ChIJ6eMEgBrJ2w8RIj9nn5x-I0o</td>\n",
       "      <td>None</td>\n",
       "      <td>https://lh5.googleusercontent.com/p/AF1QipOgey...</td>\n",
       "      <td>31.0</td>\n",
       "      <td>School</td>\n",
       "      <td>None</td>\n",
       "      <td></td>\n",
       "      <td>0xfdbc91a8004e3e9:0x4a237e9c9f673f22</td>\n",
       "      <td>5342252794145881890</td>\n",
       "      <td>6.972225</td>\n",
       "      <td>-1.470116</td>\n",
       "      <td>True</td>\n",
       "      <td>None</td>\n",
       "      <td>False</td>\n",
       "      <td>Max5</td>\n",
       "      <td>4.3</td>\n",
       "      <td>45.0</td>\n",
       "      <td>None</td>\n",
       "      <td>4.0</td>\n",
       "      <td>1.0</td>\n",
       "      <td>3.0</td>\n",
       "      <td>7.0</td>\n",
       "      <td>30.0</td>\n",
       "      <td>None</td>\n",
       "      <td>Road</td>\n",
       "      <td>Gyamase</td>\n",
       "      <td>None</td>\n",
       "      <td>None</td>\n",
       "      <td>GH</td>\n",
       "      <td></td>\n",
       "      <td></td>\n",
       "      <td></td>\n",
       "      <td></td>\n",
       "      <td></td>\n",
       "      <td></td>\n",
       "      <td></td>\n",
       "      <td>open</td>\n",
       "      <td>None</td>\n",
       "      <td>None</td>\n",
       "      <td>None</td>\n",
       "    </tr>\n",
       "    <tr>\n",
       "      <th>5</th>\n",
       "      <td>maps_search</td>\n",
       "      <td>6</td>\n",
       "      <td>6</td>\n",
       "      <td>None</td>\n",
       "      <td>Konongo Odumase Senior High School</td>\n",
       "      <td>None</td>\n",
       "      <td>None</td>\n",
       "      <td>None</td>\n",
       "      <td>None</td>\n",
       "      <td>Oxford street, Konongo</td>\n",
       "      <td>Oxford street, Konongo</td>\n",
       "      <td>ChIJPdWVFl3j2w8RV_pnsrcezYg</td>\n",
       "      <td>None</td>\n",
       "      <td>https://lh5.googleusercontent.com/p/AF1QipNh79...</td>\n",
       "      <td>87.0</td>\n",
       "      <td>High school</td>\n",
       "      <td>None</td>\n",
       "      <td></td>\n",
       "      <td>0xfdbe35d1695d53d:0x88cd1eb7b267fa57</td>\n",
       "      <td>9857568933704890967</td>\n",
       "      <td>6.615120</td>\n",
       "      <td>-1.227024</td>\n",
       "      <td>True</td>\n",
       "      <td>None</td>\n",
       "      <td>False</td>\n",
       "      <td>Max5</td>\n",
       "      <td>4.2</td>\n",
       "      <td>76.0</td>\n",
       "      <td>None</td>\n",
       "      <td>9.0</td>\n",
       "      <td>3.0</td>\n",
       "      <td>2.0</td>\n",
       "      <td>14.0</td>\n",
       "      <td>48.0</td>\n",
       "      <td>None</td>\n",
       "      <td>Oxford street</td>\n",
       "      <td>Konongo</td>\n",
       "      <td>None</td>\n",
       "      <td>None</td>\n",
       "      <td>GH</td>\n",
       "      <td>None</td>\n",
       "      <td></td>\n",
       "      <td></td>\n",
       "      <td></td>\n",
       "      <td></td>\n",
       "      <td></td>\n",
       "      <td></td>\n",
       "      <td>open</td>\n",
       "      <td>None</td>\n",
       "      <td>None</td>\n",
       "      <td>None</td>\n",
       "    </tr>\n",
       "    <tr>\n",
       "      <th>6</th>\n",
       "      <td>maps_search</td>\n",
       "      <td>7</td>\n",
       "      <td>7</td>\n",
       "      <td>None</td>\n",
       "      <td>Afia Kobi Ampem Girls Senior High School</td>\n",
       "      <td>None</td>\n",
       "      <td>None</td>\n",
       "      <td>None</td>\n",
       "      <td>None</td>\n",
       "      <td>J68J+99C, Kwanwoma District, Fosse., Nkurang</td>\n",
       "      <td>J68J+99C, Kwanwoma District, Fosse., Nkurang</td>\n",
       "      <td>ChIJaVVGtIuc2w8Ruuw8eSNLE2w</td>\n",
       "      <td>None</td>\n",
       "      <td>https://lh5.googleusercontent.com/p/AF1QipMGbk...</td>\n",
       "      <td>85.0</td>\n",
       "      <td>High school</td>\n",
       "      <td>None</td>\n",
       "      <td></td>\n",
       "      <td>0xfdb9c8bb4465569:0x6c134b23793cecba</td>\n",
       "      <td>7787650796383694010</td>\n",
       "      <td>6.615931</td>\n",
       "      <td>-1.769096</td>\n",
       "      <td>False</td>\n",
       "      <td>None</td>\n",
       "      <td>False</td>\n",
       "      <td>Max5</td>\n",
       "      <td>4.3</td>\n",
       "      <td>63.0</td>\n",
       "      <td>None</td>\n",
       "      <td>3.0</td>\n",
       "      <td>4.0</td>\n",
       "      <td>7.0</td>\n",
       "      <td>9.0</td>\n",
       "      <td>40.0</td>\n",
       "      <td>None</td>\n",
       "      <td>J68J+99C, Kwanwoma District, Fosse.</td>\n",
       "      <td>Nkurang</td>\n",
       "      <td>None</td>\n",
       "      <td>None</td>\n",
       "      <td>GH</td>\n",
       "      <td>None</td>\n",
       "      <td></td>\n",
       "      <td></td>\n",
       "      <td></td>\n",
       "      <td></td>\n",
       "      <td></td>\n",
       "      <td>None</td>\n",
       "      <td>open</td>\n",
       "      <td>None</td>\n",
       "      <td>None</td>\n",
       "      <td>None</td>\n",
       "    </tr>\n",
       "    <tr>\n",
       "      <th>7</th>\n",
       "      <td>maps_search</td>\n",
       "      <td>8</td>\n",
       "      <td>8</td>\n",
       "      <td>None</td>\n",
       "      <td>Serwaa Nyarko Girls' Senior High School</td>\n",
       "      <td>None</td>\n",
       "      <td>None</td>\n",
       "      <td>None</td>\n",
       "      <td>None</td>\n",
       "      <td>P94R+W52, Kumasi</td>\n",
       "      <td>P94R+W52, Kumasi</td>\n",
       "      <td>ChIJO49ffGOW2w8RKoUu_ZNApnE</td>\n",
       "      <td>+233245179064</td>\n",
       "      <td>https://lh5.googleusercontent.com/p/AF1QipPE4Z...</td>\n",
       "      <td>18.0</td>\n",
       "      <td>School</td>\n",
       "      <td>None</td>\n",
       "      <td></td>\n",
       "      <td>0xfdb96637c5f8f3b:0x71a64093fd2e852a</td>\n",
       "      <td>8189303976771880234</td>\n",
       "      <td>6.708913</td>\n",
       "      <td>-1.608945</td>\n",
       "      <td>False</td>\n",
       "      <td>None</td>\n",
       "      <td>False</td>\n",
       "      <td>Max5</td>\n",
       "      <td>4.3</td>\n",
       "      <td>27.0</td>\n",
       "      <td>None</td>\n",
       "      <td>3.0</td>\n",
       "      <td>0.0</td>\n",
       "      <td>2.0</td>\n",
       "      <td>3.0</td>\n",
       "      <td>19.0</td>\n",
       "      <td>Tafo</td>\n",
       "      <td>P94R+W52</td>\n",
       "      <td>Kumasi</td>\n",
       "      <td>None</td>\n",
       "      <td>None</td>\n",
       "      <td>GH</td>\n",
       "      <td>None</td>\n",
       "      <td></td>\n",
       "      <td></td>\n",
       "      <td></td>\n",
       "      <td></td>\n",
       "      <td></td>\n",
       "      <td>None</td>\n",
       "      <td>open</td>\n",
       "      <td>None</td>\n",
       "      <td>None</td>\n",
       "      <td>None</td>\n",
       "    </tr>\n",
       "    <tr>\n",
       "      <th>8</th>\n",
       "      <td>maps_search</td>\n",
       "      <td>9</td>\n",
       "      <td>9</td>\n",
       "      <td>None</td>\n",
       "      <td>Nsutaman Catholic Senior High School</td>\n",
       "      <td>None</td>\n",
       "      <td>None</td>\n",
       "      <td>None</td>\n",
       "      <td>None</td>\n",
       "      <td>Nsuta-Nintin Rd, Nsuta</td>\n",
       "      <td>Nsuta-Nintin Rd, Nsuta</td>\n",
       "      <td>ChIJxVUj0tvN2w8RJaqWjDJqouM</td>\n",
       "      <td>+233554350006</td>\n",
       "      <td>https://lh5.googleusercontent.com/p/AF1QipPQp8...</td>\n",
       "      <td>17.0</td>\n",
       "      <td>High school</td>\n",
       "      <td>None</td>\n",
       "      <td></td>\n",
       "      <td>0xfdbcddbd22355c5:0xe3a26a328c96aa25</td>\n",
       "      <td>16402789558176360997</td>\n",
       "      <td>7.009792</td>\n",
       "      <td>-1.392324</td>\n",
       "      <td>True</td>\n",
       "      <td>None</td>\n",
       "      <td>False</td>\n",
       "      <td>Max5</td>\n",
       "      <td>4.1</td>\n",
       "      <td>23.0</td>\n",
       "      <td>None</td>\n",
       "      <td>2.0</td>\n",
       "      <td>2.0</td>\n",
       "      <td>2.0</td>\n",
       "      <td>3.0</td>\n",
       "      <td>14.0</td>\n",
       "      <td>None</td>\n",
       "      <td>Nsuta-Nintin Rd</td>\n",
       "      <td>Nsuta</td>\n",
       "      <td>None</td>\n",
       "      <td>None</td>\n",
       "      <td>GH</td>\n",
       "      <td></td>\n",
       "      <td></td>\n",
       "      <td></td>\n",
       "      <td></td>\n",
       "      <td></td>\n",
       "      <td></td>\n",
       "      <td></td>\n",
       "      <td>open</td>\n",
       "      <td>None</td>\n",
       "      <td>None</td>\n",
       "      <td>None</td>\n",
       "    </tr>\n",
       "    <tr>\n",
       "      <th>9</th>\n",
       "      <td>maps_search</td>\n",
       "      <td>10</td>\n",
       "      <td>10</td>\n",
       "      <td>olagshs.edu.gh</td>\n",
       "      <td>Our Lady of Grace Senior High School</td>\n",
       "      <td>http://olagshs.edu.gh/</td>\n",
       "      <td>None</td>\n",
       "      <td>None</td>\n",
       "      <td>None</td>\n",
       "      <td>GRACE AVENUE, Kumasi</td>\n",
       "      <td>GRACE AVENUE, Kumasi</td>\n",
       "      <td>ChIJTQt8sfC-2w8R8LbCCJXgcdY</td>\n",
       "      <td>+233558093814</td>\n",
       "      <td>https://lh5.googleusercontent.com/p/AF1QipPzI8...</td>\n",
       "      <td>67.0</td>\n",
       "      <td>Catholic school</td>\n",
       "      <td></td>\n",
       "      <td></td>\n",
       "      <td>0xfdbbef0b17c0b4d:0xd671e09508c2b6f0</td>\n",
       "      <td>15452378727186609904</td>\n",
       "      <td>6.795015</td>\n",
       "      <td>-1.570698</td>\n",
       "      <td>True</td>\n",
       "      <td>None</td>\n",
       "      <td>False</td>\n",
       "      <td>Max5</td>\n",
       "      <td>4.7</td>\n",
       "      <td>52.0</td>\n",
       "      <td>None</td>\n",
       "      <td>2.0</td>\n",
       "      <td>1.0</td>\n",
       "      <td>2.0</td>\n",
       "      <td>3.0</td>\n",
       "      <td>44.0</td>\n",
       "      <td>None</td>\n",
       "      <td>GRACE AVENUE</td>\n",
       "      <td>Kumasi</td>\n",
       "      <td>None</td>\n",
       "      <td>None</td>\n",
       "      <td>GH</td>\n",
       "      <td>None</td>\n",
       "      <td></td>\n",
       "      <td></td>\n",
       "      <td></td>\n",
       "      <td></td>\n",
       "      <td></td>\n",
       "      <td>None</td>\n",
       "      <td>open</td>\n",
       "      <td>None</td>\n",
       "      <td>None</td>\n",
       "      <td>None</td>\n",
       "    </tr>\n",
       "  </tbody>\n",
       "</table>\n",
       "</div>"
      ],
      "text/plain": [
       "          type  rank_group  rank_absolute             domain  \\\n",
       "0  maps_search           1              1  stlouisshs.edu.gh   \n",
       "1  maps_search           2              2               None   \n",
       "2  maps_search           3              3       otshs.edu.gh   \n",
       "3  maps_search           4              4               None   \n",
       "4  maps_search           5              5               None   \n",
       "5  maps_search           6              6               None   \n",
       "6  maps_search           7              7               None   \n",
       "7  maps_search           8              8               None   \n",
       "8  maps_search           9              9               None   \n",
       "9  maps_search          10             10     olagshs.edu.gh   \n",
       "\n",
       "                                      title                        url  \\\n",
       "0               St Louis Senior High School  http://stlouisshs.edu.gh/   \n",
       "1                     Asanteman Senior High                       None   \n",
       "2              Osei Tutu Senior High School       http://otshs.edu.gh/   \n",
       "3       Nkawie Senior High Technical School                       None   \n",
       "4             Adu Gyamfi Senior High School                       None   \n",
       "5        Konongo Odumase Senior High School                       None   \n",
       "6  Afia Kobi Ampem Girls Senior High School                       None   \n",
       "7   Serwaa Nyarko Girls' Senior High School                       None   \n",
       "8      Nsutaman Catholic Senior High School                       None   \n",
       "9      Our Lady of Grace Senior High School     http://olagshs.edu.gh/   \n",
       "\n",
       "  contact_url hotel_rating price_level  \\\n",
       "0        None         None        None   \n",
       "1        None         None        None   \n",
       "2        None         None        None   \n",
       "3        None         None        None   \n",
       "4        None         None        None   \n",
       "5        None         None        None   \n",
       "6        None         None        None   \n",
       "7        None         None        None   \n",
       "8        None         None        None   \n",
       "9        None         None        None   \n",
       "\n",
       "                                        snippet  \\\n",
       "0                                        Kumasi   \n",
       "1                                        Kumasi   \n",
       "2                              Akropong, Kumasi   \n",
       "3                             Nkawie Rd, Kumasi   \n",
       "4                                 Road, Gyamase   \n",
       "5                        Oxford street, Konongo   \n",
       "6  J68J+99C, Kwanwoma District, Fosse., Nkurang   \n",
       "7                              P94R+W52, Kumasi   \n",
       "8                        Nsuta-Nintin Rd, Nsuta   \n",
       "9                          GRACE AVENUE, Kumasi   \n",
       "\n",
       "                                        address                     place_id  \\\n",
       "0                                        Kumasi  ChIJSZr1S_aU2w8Rzk9ErYIKEyU   \n",
       "1                                        Kumasi  ChIJd4Hs_VmW2w8Ry65BE21ygtI   \n",
       "2                              Akropong, Kumasi  ChIJnYaW_YSY2w8R_Cf8X-Uzv2E   \n",
       "3                             Nkawie Rd, Kumasi  ChIJIxM4lnGe2w8Rl7LuOxGeN9k   \n",
       "4                                 Road, Gyamase  ChIJ6eMEgBrJ2w8RIj9nn5x-I0o   \n",
       "5                        Oxford street, Konongo  ChIJPdWVFl3j2w8RV_pnsrcezYg   \n",
       "6  J68J+99C, Kwanwoma District, Fosse., Nkurang  ChIJaVVGtIuc2w8Ruuw8eSNLE2w   \n",
       "7                              P94R+W52, Kumasi  ChIJO49ffGOW2w8RKoUu_ZNApnE   \n",
       "8                        Nsuta-Nintin Rd, Nsuta  ChIJxVUj0tvN2w8RJaqWjDJqouM   \n",
       "9                          GRACE AVENUE, Kumasi  ChIJTQt8sfC-2w8R8LbCCJXgcdY   \n",
       "\n",
       "           phone                                         main_image  \\\n",
       "0  +233547800131  https://lh5.googleusercontent.com/p/AF1QipMh8C...   \n",
       "1  +233322023707  https://lh5.googleusercontent.com/p/AF1QipP79s...   \n",
       "2  +233547472237  https://lh5.googleusercontent.com/p/AF1QipMu7b...   \n",
       "3           None  https://lh5.googleusercontent.com/p/AF1QipMhTm...   \n",
       "4           None  https://lh5.googleusercontent.com/p/AF1QipOgey...   \n",
       "5           None  https://lh5.googleusercontent.com/p/AF1QipNh79...   \n",
       "6           None  https://lh5.googleusercontent.com/p/AF1QipMGbk...   \n",
       "7  +233245179064  https://lh5.googleusercontent.com/p/AF1QipPE4Z...   \n",
       "8  +233554350006  https://lh5.googleusercontent.com/p/AF1QipPQp8...   \n",
       "9  +233558093814  https://lh5.googleusercontent.com/p/AF1QipPzI8...   \n",
       "\n",
       "   total_photos            category additional_categories category_ids  \\\n",
       "0          49.0         High school                  None                \n",
       "1          72.0              School                  None                \n",
       "2         270.0         High school                  None                \n",
       "3          49.0  Senior high school                  None                \n",
       "4          31.0              School                  None                \n",
       "5          87.0         High school                  None                \n",
       "6          85.0         High school                  None                \n",
       "7          18.0              School                  None                \n",
       "8          17.0         High school                  None                \n",
       "9          67.0     Catholic school                                      \n",
       "\n",
       "                             feature_id                   cid  latitude  \\\n",
       "0  0xfdb94f64bf59a49:0x25130a82ad444fce   2671490560329797582  6.695009   \n",
       "1  0xfdb9659fdec8177:0xd282726d1341aecb  15168812307737325259  6.709111   \n",
       "2  0xfdb9884fd96869d:0x61bf33e55ffc27fc   7043405402481633276  6.737566   \n",
       "3  0xfdb9e7196381323:0xd9379e113beeb297  15652152826806579863  6.668694   \n",
       "4  0xfdbc91a8004e3e9:0x4a237e9c9f673f22   5342252794145881890  6.972225   \n",
       "5  0xfdbe35d1695d53d:0x88cd1eb7b267fa57   9857568933704890967  6.615120   \n",
       "6  0xfdb9c8bb4465569:0x6c134b23793cecba   7787650796383694010  6.615931   \n",
       "7  0xfdb96637c5f8f3b:0x71a64093fd2e852a   8189303976771880234  6.708913   \n",
       "8  0xfdbcddbd22355c5:0xe3a26a328c96aa25  16402789558176360997  7.009792   \n",
       "9  0xfdbbef0b17c0b4d:0xd671e09508c2b6f0  15452378727186609904  6.795015   \n",
       "\n",
       "   longitude  is_claimed local_justifications  is_directory_item  \\\n",
       "0  -1.545156        True                 None              False   \n",
       "1  -1.628301        True                 None              False   \n",
       "2  -1.722830        True                 None              False   \n",
       "3  -1.805830        True                 None              False   \n",
       "4  -1.470116        True                 None              False   \n",
       "5  -1.227024        True                 None              False   \n",
       "6  -1.769096       False                 None              False   \n",
       "7  -1.608945       False                 None              False   \n",
       "8  -1.392324        True                 None              False   \n",
       "9  -1.570698        True                 None              False   \n",
       "\n",
       "  rating_rating_type  rating_value  rating_votes_count rating_rating_max  \\\n",
       "0               Max5           4.4               164.0              None   \n",
       "1               Max5           4.2                96.0              None   \n",
       "2               Max5           4.4               174.0              None   \n",
       "3               Max5           4.2                40.0              None   \n",
       "4               Max5           4.3                45.0              None   \n",
       "5               Max5           4.2                76.0              None   \n",
       "6               Max5           4.3                63.0              None   \n",
       "7               Max5           4.3                27.0              None   \n",
       "8               Max5           4.1                23.0              None   \n",
       "9               Max5           4.7                52.0              None   \n",
       "\n",
       "   rating_distribution_1  rating_distribution_2  rating_distribution_3  \\\n",
       "0                    8.0                   10.0                    3.0   \n",
       "1                   11.0                    3.0                    6.0   \n",
       "2                   13.0                    5.0                   12.0   \n",
       "3                    1.0                    4.0                    4.0   \n",
       "4                    4.0                    1.0                    3.0   \n",
       "5                    9.0                    3.0                    2.0   \n",
       "6                    3.0                    4.0                    7.0   \n",
       "7                    3.0                    0.0                    2.0   \n",
       "8                    2.0                    2.0                    2.0   \n",
       "9                    2.0                    1.0                    2.0   \n",
       "\n",
       "   rating_distribution_4  rating_distribution_5 address_info_borough  \\\n",
       "0                   32.0                  111.0                 None   \n",
       "1                   11.0                   65.0             Ampabame   \n",
       "2                   13.0                  131.0                 None   \n",
       "3                    9.0                   22.0                 None   \n",
       "4                    7.0                   30.0                 None   \n",
       "5                   14.0                   48.0                 None   \n",
       "6                    9.0                   40.0                 None   \n",
       "7                    3.0                   19.0                 Tafo   \n",
       "8                    3.0                   14.0                 None   \n",
       "9                    3.0                   44.0                 None   \n",
       "\n",
       "                  address_info_address address_info_city address_info_zip  \\\n",
       "0                                 None            Kumasi             None   \n",
       "1                                 None            Kumasi             None   \n",
       "2                             Akropong            Kumasi             None   \n",
       "3                            Nkawie Rd            Kumasi             None   \n",
       "4                                 Road           Gyamase             None   \n",
       "5                        Oxford street           Konongo             None   \n",
       "6  J68J+99C, Kwanwoma District, Fosse.           Nkurang             None   \n",
       "7                             P94R+W52            Kumasi             None   \n",
       "8                      Nsuta-Nintin Rd             Nsuta             None   \n",
       "9                         GRACE AVENUE            Kumasi             None   \n",
       "\n",
       "  address_info_region address_info_country_code work_hours_timetable_sunday  \\\n",
       "0                None                        GH                               \n",
       "1                None                        GH                        None   \n",
       "2                None                        GH                        None   \n",
       "3                None                        GH                        None   \n",
       "4                None                        GH                               \n",
       "5                None                        GH                        None   \n",
       "6                None                        GH                        None   \n",
       "7                None                        GH                        None   \n",
       "8                None                        GH                               \n",
       "9                None                        GH                        None   \n",
       "\n",
       "  work_hours_timetable_monday work_hours_timetable_tuesday  \\\n",
       "0                                                            \n",
       "1                                                            \n",
       "2                                                            \n",
       "3                                                            \n",
       "4                                                            \n",
       "5                                                            \n",
       "6                                                            \n",
       "7                                                            \n",
       "8                                                            \n",
       "9                                                            \n",
       "\n",
       "  work_hours_timetable_wednesday work_hours_timetable_thursday  \\\n",
       "0                                                                \n",
       "1                                                                \n",
       "2                                                                \n",
       "3                                                                \n",
       "4                                                                \n",
       "5                                                                \n",
       "6                                                                \n",
       "7                                                                \n",
       "8                                                                \n",
       "9                                                                \n",
       "\n",
       "  work_hours_timetable_friday work_hours_timetable_saturday  \\\n",
       "0                                                             \n",
       "1                                                      None   \n",
       "2                                                      None   \n",
       "3                                                      None   \n",
       "4                                                             \n",
       "5                                                             \n",
       "6                                                      None   \n",
       "7                                                      None   \n",
       "8                                                             \n",
       "9                                                      None   \n",
       "\n",
       "  work_hours_current_status work_hours_timetable rating rating_distribution  \n",
       "0                      open                 None   None                None  \n",
       "1                      open                 None   None                None  \n",
       "2                      open                 None   None                None  \n",
       "3                      open                 None   None                None  \n",
       "4                      open                 None   None                None  \n",
       "5                      open                 None   None                None  \n",
       "6                      open                 None   None                None  \n",
       "7                      open                 None   None                None  \n",
       "8                      open                 None   None                None  \n",
       "9                      open                 None   None                None  "
      ]
     },
     "execution_count": 5,
     "metadata": {},
     "output_type": "execute_result"
    }
   ],
   "source": [
    "df.head(10)"
   ]
  },
  {
   "cell_type": "code",
   "execution_count": 6,
   "metadata": {},
   "outputs": [
    {
     "name": "stdout",
     "output_type": "stream",
     "text": [
      "<class 'pandas.core.frame.DataFrame'>\n",
      "RangeIndex: 100 entries, 0 to 99\n",
      "Data columns (total 51 columns):\n",
      " #   Column                          Non-Null Count  Dtype  \n",
      "---  ------                          --------------  -----  \n",
      " 0   type                            100 non-null    object \n",
      " 1   rank_group                      100 non-null    int64  \n",
      " 2   rank_absolute                   100 non-null    int64  \n",
      " 3   domain                          14 non-null     object \n",
      " 4   title                           100 non-null    object \n",
      " 5   url                             14 non-null     object \n",
      " 6   contact_url                     0 non-null      object \n",
      " 7   hotel_rating                    0 non-null      object \n",
      " 8   price_level                     0 non-null      object \n",
      " 9   snippet                         99 non-null     object \n",
      " 10  address                         99 non-null     object \n",
      " 11  place_id                        100 non-null    object \n",
      " 12  phone                           74 non-null     object \n",
      " 13  main_image                      97 non-null     object \n",
      " 14  total_photos                    96 non-null     float64\n",
      " 15  category                        100 non-null    object \n",
      " 16  additional_categories           5 non-null      object \n",
      " 17  category_ids                    100 non-null    object \n",
      " 18  feature_id                      100 non-null    object \n",
      " 19  cid                             100 non-null    object \n",
      " 20  latitude                        100 non-null    float64\n",
      " 21  longitude                       100 non-null    float64\n",
      " 22  is_claimed                      100 non-null    bool   \n",
      " 23  local_justifications            49 non-null     object \n",
      " 24  is_directory_item               100 non-null    bool   \n",
      " 25  rating_rating_type              98 non-null     object \n",
      " 26  rating_value                    98 non-null     float64\n",
      " 27  rating_votes_count              98 non-null     float64\n",
      " 28  rating_rating_max               0 non-null      object \n",
      " 29  rating_distribution_1           98 non-null     float64\n",
      " 30  rating_distribution_2           98 non-null     float64\n",
      " 31  rating_distribution_3           98 non-null     float64\n",
      " 32  rating_distribution_4           98 non-null     float64\n",
      " 33  rating_distribution_5           98 non-null     float64\n",
      " 34  address_info_borough            17 non-null     object \n",
      " 35  address_info_address            84 non-null     object \n",
      " 36  address_info_city               98 non-null     object \n",
      " 37  address_info_zip                0 non-null      object \n",
      " 38  address_info_region             0 non-null      object \n",
      " 39  address_info_country_code       99 non-null     object \n",
      " 40  work_hours_timetable_sunday     21 non-null     object \n",
      " 41  work_hours_timetable_monday     78 non-null     object \n",
      " 42  work_hours_timetable_tuesday    78 non-null     object \n",
      " 43  work_hours_timetable_wednesday  79 non-null     object \n",
      " 44  work_hours_timetable_thursday   78 non-null     object \n",
      " 45  work_hours_timetable_friday     78 non-null     object \n",
      " 46  work_hours_timetable_saturday   29 non-null     object \n",
      " 47  work_hours_current_status       100 non-null    object \n",
      " 48  work_hours_timetable            0 non-null      object \n",
      " 49  rating                          0 non-null      object \n",
      " 50  rating_distribution             0 non-null      object \n",
      "dtypes: bool(2), float64(10), int64(2), object(37)\n",
      "memory usage: 38.6+ KB\n"
     ]
    }
   ],
   "source": [
    "df.info()"
   ]
  },
  {
   "cell_type": "code",
   "execution_count": 7,
   "metadata": {},
   "outputs": [
    {
     "data": {
      "text/plain": [
       "Index(['type', 'rank_group', 'rank_absolute', 'domain', 'title', 'url',\n",
       "       'contact_url', 'hotel_rating', 'price_level', 'snippet', 'address',\n",
       "       'place_id', 'phone', 'main_image', 'total_photos', 'category',\n",
       "       'additional_categories', 'category_ids', 'feature_id', 'cid',\n",
       "       'latitude', 'longitude', 'is_claimed', 'local_justifications',\n",
       "       'is_directory_item', 'rating_rating_type', 'rating_value',\n",
       "       'rating_votes_count', 'rating_rating_max', 'rating_distribution_1',\n",
       "       'rating_distribution_2', 'rating_distribution_3',\n",
       "       'rating_distribution_4', 'rating_distribution_5',\n",
       "       'address_info_borough', 'address_info_address', 'address_info_city',\n",
       "       'address_info_zip', 'address_info_region', 'address_info_country_code',\n",
       "       'work_hours_timetable_sunday', 'work_hours_timetable_monday',\n",
       "       'work_hours_timetable_tuesday', 'work_hours_timetable_wednesday',\n",
       "       'work_hours_timetable_thursday', 'work_hours_timetable_friday',\n",
       "       'work_hours_timetable_saturday', 'work_hours_current_status',\n",
       "       'work_hours_timetable', 'rating', 'rating_distribution'],\n",
       "      dtype='object')"
      ]
     },
     "execution_count": 7,
     "metadata": {},
     "output_type": "execute_result"
    }
   ],
   "source": [
    "df.columns"
   ]
  },
  {
   "cell_type": "code",
   "execution_count": 8,
   "metadata": {},
   "outputs": [],
   "source": [
    "df.drop(columns=['type', 'rank_group', 'rank_absolute', 'domain','contact_url', 'hotel_rating', 'price_level','snippet',\n",
    "                 'place_id', 'main_image', 'total_photos','additional_categories','category_ids', 'feature_id', 'cid',\n",
    "                 'is_claimed', 'local_justifications','is_directory_item', 'rating_rating_type','rating_votes_count', \n",
    "                 'rating_rating_max', 'rating_distribution_1','rating_distribution_2', 'rating_distribution_3',\n",
    "                 'rating_distribution_4', 'rating_distribution_5','address_info_zip', 'address_info_region', 'address_info_country_code',\n",
    "                 'work_hours_timetable_sunday', 'work_hours_timetable_monday','work_hours_timetable_tuesday',\n",
    "                 'work_hours_timetable_wednesday','work_hours_timetable_thursday', 'work_hours_timetable_friday',\n",
    "                 'work_hours_timetable_saturday', 'work_hours_current_status','work_hours_timetable',\n",
    "                 'rating', 'rating_distribution'],axis=1,inplace=True)"
   ]
  },
  {
   "cell_type": "code",
   "execution_count": 9,
   "metadata": {},
   "outputs": [
    {
     "data": {
      "text/html": [
       "<div>\n",
       "<style scoped>\n",
       "    .dataframe tbody tr th:only-of-type {\n",
       "        vertical-align: middle;\n",
       "    }\n",
       "\n",
       "    .dataframe tbody tr th {\n",
       "        vertical-align: top;\n",
       "    }\n",
       "\n",
       "    .dataframe thead th {\n",
       "        text-align: right;\n",
       "    }\n",
       "</style>\n",
       "<table border=\"1\" class=\"dataframe\">\n",
       "  <thead>\n",
       "    <tr style=\"text-align: right;\">\n",
       "      <th></th>\n",
       "      <th>title</th>\n",
       "      <th>url</th>\n",
       "      <th>address</th>\n",
       "      <th>phone</th>\n",
       "      <th>category</th>\n",
       "      <th>latitude</th>\n",
       "      <th>longitude</th>\n",
       "      <th>rating_value</th>\n",
       "      <th>address_info_borough</th>\n",
       "      <th>address_info_address</th>\n",
       "      <th>address_info_city</th>\n",
       "    </tr>\n",
       "  </thead>\n",
       "  <tbody>\n",
       "    <tr>\n",
       "      <th>0</th>\n",
       "      <td>St Louis Senior High School</td>\n",
       "      <td>http://stlouisshs.edu.gh/</td>\n",
       "      <td>Kumasi</td>\n",
       "      <td>+233547800131</td>\n",
       "      <td>High school</td>\n",
       "      <td>6.695009</td>\n",
       "      <td>-1.545156</td>\n",
       "      <td>4.4</td>\n",
       "      <td>None</td>\n",
       "      <td>None</td>\n",
       "      <td>Kumasi</td>\n",
       "    </tr>\n",
       "    <tr>\n",
       "      <th>1</th>\n",
       "      <td>Asanteman Senior High</td>\n",
       "      <td>None</td>\n",
       "      <td>Kumasi</td>\n",
       "      <td>+233322023707</td>\n",
       "      <td>School</td>\n",
       "      <td>6.709111</td>\n",
       "      <td>-1.628301</td>\n",
       "      <td>4.2</td>\n",
       "      <td>Ampabame</td>\n",
       "      <td>None</td>\n",
       "      <td>Kumasi</td>\n",
       "    </tr>\n",
       "    <tr>\n",
       "      <th>2</th>\n",
       "      <td>Osei Tutu Senior High School</td>\n",
       "      <td>http://otshs.edu.gh/</td>\n",
       "      <td>Akropong, Kumasi</td>\n",
       "      <td>+233547472237</td>\n",
       "      <td>High school</td>\n",
       "      <td>6.737566</td>\n",
       "      <td>-1.722830</td>\n",
       "      <td>4.4</td>\n",
       "      <td>None</td>\n",
       "      <td>Akropong</td>\n",
       "      <td>Kumasi</td>\n",
       "    </tr>\n",
       "    <tr>\n",
       "      <th>3</th>\n",
       "      <td>Nkawie Senior High Technical School</td>\n",
       "      <td>None</td>\n",
       "      <td>Nkawie Rd, Kumasi</td>\n",
       "      <td>None</td>\n",
       "      <td>Senior high school</td>\n",
       "      <td>6.668694</td>\n",
       "      <td>-1.805830</td>\n",
       "      <td>4.2</td>\n",
       "      <td>None</td>\n",
       "      <td>Nkawie Rd</td>\n",
       "      <td>Kumasi</td>\n",
       "    </tr>\n",
       "    <tr>\n",
       "      <th>4</th>\n",
       "      <td>Adu Gyamfi Senior High School</td>\n",
       "      <td>None</td>\n",
       "      <td>Road, Gyamase</td>\n",
       "      <td>None</td>\n",
       "      <td>School</td>\n",
       "      <td>6.972225</td>\n",
       "      <td>-1.470116</td>\n",
       "      <td>4.3</td>\n",
       "      <td>None</td>\n",
       "      <td>Road</td>\n",
       "      <td>Gyamase</td>\n",
       "    </tr>\n",
       "  </tbody>\n",
       "</table>\n",
       "</div>"
      ],
      "text/plain": [
       "                                 title                        url  \\\n",
       "0          St Louis Senior High School  http://stlouisshs.edu.gh/   \n",
       "1                Asanteman Senior High                       None   \n",
       "2         Osei Tutu Senior High School       http://otshs.edu.gh/   \n",
       "3  Nkawie Senior High Technical School                       None   \n",
       "4        Adu Gyamfi Senior High School                       None   \n",
       "\n",
       "             address          phone            category  latitude  longitude  \\\n",
       "0             Kumasi  +233547800131         High school  6.695009  -1.545156   \n",
       "1             Kumasi  +233322023707              School  6.709111  -1.628301   \n",
       "2   Akropong, Kumasi  +233547472237         High school  6.737566  -1.722830   \n",
       "3  Nkawie Rd, Kumasi           None  Senior high school  6.668694  -1.805830   \n",
       "4      Road, Gyamase           None              School  6.972225  -1.470116   \n",
       "\n",
       "   rating_value address_info_borough address_info_address address_info_city  \n",
       "0           4.4                 None                 None            Kumasi  \n",
       "1           4.2             Ampabame                 None            Kumasi  \n",
       "2           4.4                 None             Akropong            Kumasi  \n",
       "3           4.2                 None            Nkawie Rd            Kumasi  \n",
       "4           4.3                 None                 Road           Gyamase  "
      ]
     },
     "execution_count": 9,
     "metadata": {},
     "output_type": "execute_result"
    }
   ],
   "source": [
    "df.head()"
   ]
  },
  {
   "cell_type": "code",
   "execution_count": 10,
   "metadata": {},
   "outputs": [],
   "source": [
    "df.drop(columns=[\"url\",\"address_info_borough\",\"address_info_city\"],axis=1,inplace=True)"
   ]
  },
  {
   "cell_type": "code",
   "execution_count": 11,
   "metadata": {},
   "outputs": [
    {
     "data": {
      "text/html": [
       "<div>\n",
       "<style scoped>\n",
       "    .dataframe tbody tr th:only-of-type {\n",
       "        vertical-align: middle;\n",
       "    }\n",
       "\n",
       "    .dataframe tbody tr th {\n",
       "        vertical-align: top;\n",
       "    }\n",
       "\n",
       "    .dataframe thead th {\n",
       "        text-align: right;\n",
       "    }\n",
       "</style>\n",
       "<table border=\"1\" class=\"dataframe\">\n",
       "  <thead>\n",
       "    <tr style=\"text-align: right;\">\n",
       "      <th></th>\n",
       "      <th>title</th>\n",
       "      <th>address</th>\n",
       "      <th>phone</th>\n",
       "      <th>category</th>\n",
       "      <th>latitude</th>\n",
       "      <th>longitude</th>\n",
       "      <th>rating_value</th>\n",
       "      <th>address_info_address</th>\n",
       "    </tr>\n",
       "  </thead>\n",
       "  <tbody>\n",
       "    <tr>\n",
       "      <th>0</th>\n",
       "      <td>St Louis Senior High School</td>\n",
       "      <td>Kumasi</td>\n",
       "      <td>+233547800131</td>\n",
       "      <td>High school</td>\n",
       "      <td>6.695009</td>\n",
       "      <td>-1.545156</td>\n",
       "      <td>4.4</td>\n",
       "      <td>None</td>\n",
       "    </tr>\n",
       "    <tr>\n",
       "      <th>1</th>\n",
       "      <td>Asanteman Senior High</td>\n",
       "      <td>Kumasi</td>\n",
       "      <td>+233322023707</td>\n",
       "      <td>School</td>\n",
       "      <td>6.709111</td>\n",
       "      <td>-1.628301</td>\n",
       "      <td>4.2</td>\n",
       "      <td>None</td>\n",
       "    </tr>\n",
       "    <tr>\n",
       "      <th>2</th>\n",
       "      <td>Osei Tutu Senior High School</td>\n",
       "      <td>Akropong, Kumasi</td>\n",
       "      <td>+233547472237</td>\n",
       "      <td>High school</td>\n",
       "      <td>6.737566</td>\n",
       "      <td>-1.722830</td>\n",
       "      <td>4.4</td>\n",
       "      <td>Akropong</td>\n",
       "    </tr>\n",
       "    <tr>\n",
       "      <th>3</th>\n",
       "      <td>Nkawie Senior High Technical School</td>\n",
       "      <td>Nkawie Rd, Kumasi</td>\n",
       "      <td>None</td>\n",
       "      <td>Senior high school</td>\n",
       "      <td>6.668694</td>\n",
       "      <td>-1.805830</td>\n",
       "      <td>4.2</td>\n",
       "      <td>Nkawie Rd</td>\n",
       "    </tr>\n",
       "    <tr>\n",
       "      <th>4</th>\n",
       "      <td>Adu Gyamfi Senior High School</td>\n",
       "      <td>Road, Gyamase</td>\n",
       "      <td>None</td>\n",
       "      <td>School</td>\n",
       "      <td>6.972225</td>\n",
       "      <td>-1.470116</td>\n",
       "      <td>4.3</td>\n",
       "      <td>Road</td>\n",
       "    </tr>\n",
       "    <tr>\n",
       "      <th>...</th>\n",
       "      <td>...</td>\n",
       "      <td>...</td>\n",
       "      <td>...</td>\n",
       "      <td>...</td>\n",
       "      <td>...</td>\n",
       "      <td>...</td>\n",
       "      <td>...</td>\n",
       "      <td>...</td>\n",
       "    </tr>\n",
       "    <tr>\n",
       "      <th>95</th>\n",
       "      <td>Phoenix Preparatory Junior High School</td>\n",
       "      <td>Ejisu</td>\n",
       "      <td>+233245938779</td>\n",
       "      <td>High school</td>\n",
       "      <td>6.715008</td>\n",
       "      <td>-1.473714</td>\n",
       "      <td>4.8</td>\n",
       "      <td>None</td>\n",
       "    </tr>\n",
       "    <tr>\n",
       "      <th>96</th>\n",
       "      <td>DDD Senior High/Technical School</td>\n",
       "      <td>New Atobiase near, Kumasi</td>\n",
       "      <td>+233200567627</td>\n",
       "      <td>School</td>\n",
       "      <td>6.613622</td>\n",
       "      <td>-1.534167</td>\n",
       "      <td>5.0</td>\n",
       "      <td>New Atobiase near</td>\n",
       "    </tr>\n",
       "    <tr>\n",
       "      <th>97</th>\n",
       "      <td>Ejisu Secondary Technical School</td>\n",
       "      <td>Ejisu, Accra</td>\n",
       "      <td>+233546354802</td>\n",
       "      <td>Educational institution</td>\n",
       "      <td>6.717033</td>\n",
       "      <td>-1.468226</td>\n",
       "      <td>3.3</td>\n",
       "      <td>Ejisu</td>\n",
       "    </tr>\n",
       "    <tr>\n",
       "      <th>98</th>\n",
       "      <td>Adu Daniel</td>\n",
       "      <td>MCRG+2VR, Kumasi</td>\n",
       "      <td>None</td>\n",
       "      <td>High school</td>\n",
       "      <td>6.689440</td>\n",
       "      <td>-1.572954</td>\n",
       "      <td>NaN</td>\n",
       "      <td>MCRG+2VR</td>\n",
       "    </tr>\n",
       "    <tr>\n",
       "      <th>99</th>\n",
       "      <td>Krobea Asante Technical Institute</td>\n",
       "      <td>Asokore Ahinsan road</td>\n",
       "      <td>+233244029845</td>\n",
       "      <td>Technical school</td>\n",
       "      <td>6.849051</td>\n",
       "      <td>-1.373115</td>\n",
       "      <td>3.9</td>\n",
       "      <td>Asokore Ahinsan road</td>\n",
       "    </tr>\n",
       "  </tbody>\n",
       "</table>\n",
       "<p>100 rows × 8 columns</p>\n",
       "</div>"
      ],
      "text/plain": [
       "                                     title                    address  \\\n",
       "0              St Louis Senior High School                     Kumasi   \n",
       "1                    Asanteman Senior High                     Kumasi   \n",
       "2             Osei Tutu Senior High School           Akropong, Kumasi   \n",
       "3      Nkawie Senior High Technical School          Nkawie Rd, Kumasi   \n",
       "4            Adu Gyamfi Senior High School              Road, Gyamase   \n",
       "..                                     ...                        ...   \n",
       "95  Phoenix Preparatory Junior High School                      Ejisu   \n",
       "96        DDD Senior High/Technical School  New Atobiase near, Kumasi   \n",
       "97        Ejisu Secondary Technical School               Ejisu, Accra   \n",
       "98                              Adu Daniel           MCRG+2VR, Kumasi   \n",
       "99       Krobea Asante Technical Institute       Asokore Ahinsan road   \n",
       "\n",
       "            phone                 category  latitude  longitude  rating_value  \\\n",
       "0   +233547800131              High school  6.695009  -1.545156           4.4   \n",
       "1   +233322023707                   School  6.709111  -1.628301           4.2   \n",
       "2   +233547472237              High school  6.737566  -1.722830           4.4   \n",
       "3            None       Senior high school  6.668694  -1.805830           4.2   \n",
       "4            None                   School  6.972225  -1.470116           4.3   \n",
       "..            ...                      ...       ...        ...           ...   \n",
       "95  +233245938779              High school  6.715008  -1.473714           4.8   \n",
       "96  +233200567627                   School  6.613622  -1.534167           5.0   \n",
       "97  +233546354802  Educational institution  6.717033  -1.468226           3.3   \n",
       "98           None              High school  6.689440  -1.572954           NaN   \n",
       "99  +233244029845         Technical school  6.849051  -1.373115           3.9   \n",
       "\n",
       "    address_info_address  \n",
       "0                   None  \n",
       "1                   None  \n",
       "2               Akropong  \n",
       "3              Nkawie Rd  \n",
       "4                   Road  \n",
       "..                   ...  \n",
       "95                  None  \n",
       "96     New Atobiase near  \n",
       "97                 Ejisu  \n",
       "98              MCRG+2VR  \n",
       "99  Asokore Ahinsan road  \n",
       "\n",
       "[100 rows x 8 columns]"
      ]
     },
     "execution_count": 11,
     "metadata": {},
     "output_type": "execute_result"
    }
   ],
   "source": [
    "df"
   ]
  },
  {
   "cell_type": "code",
   "execution_count": 12,
   "metadata": {},
   "outputs": [
    {
     "name": "stdout",
     "output_type": "stream",
     "text": [
      "<class 'pandas.core.frame.DataFrame'>\n",
      "RangeIndex: 100 entries, 0 to 99\n",
      "Data columns (total 8 columns):\n",
      " #   Column                Non-Null Count  Dtype  \n",
      "---  ------                --------------  -----  \n",
      " 0   title                 100 non-null    object \n",
      " 1   address               99 non-null     object \n",
      " 2   phone                 74 non-null     object \n",
      " 3   category              100 non-null    object \n",
      " 4   latitude              100 non-null    float64\n",
      " 5   longitude             100 non-null    float64\n",
      " 6   rating_value          98 non-null     float64\n",
      " 7   address_info_address  84 non-null     object \n",
      "dtypes: float64(3), object(5)\n",
      "memory usage: 6.4+ KB\n"
     ]
    }
   ],
   "source": [
    "df.info()"
   ]
  },
  {
   "cell_type": "code",
   "execution_count": 13,
   "metadata": {},
   "outputs": [
    {
     "data": {
      "text/html": [
       "<div>\n",
       "<style scoped>\n",
       "    .dataframe tbody tr th:only-of-type {\n",
       "        vertical-align: middle;\n",
       "    }\n",
       "\n",
       "    .dataframe tbody tr th {\n",
       "        vertical-align: top;\n",
       "    }\n",
       "\n",
       "    .dataframe thead th {\n",
       "        text-align: right;\n",
       "    }\n",
       "</style>\n",
       "<table border=\"1\" class=\"dataframe\">\n",
       "  <thead>\n",
       "    <tr style=\"text-align: right;\">\n",
       "      <th></th>\n",
       "      <th>Name</th>\n",
       "      <th>Address</th>\n",
       "      <th>Phone</th>\n",
       "      <th>Category</th>\n",
       "      <th>Latitude</th>\n",
       "      <th>Longitude</th>\n",
       "      <th>Rating</th>\n",
       "      <th>address_info_address</th>\n",
       "    </tr>\n",
       "  </thead>\n",
       "  <tbody>\n",
       "    <tr>\n",
       "      <th>0</th>\n",
       "      <td>St Louis Senior High School</td>\n",
       "      <td>Kumasi</td>\n",
       "      <td>+233547800131</td>\n",
       "      <td>High school</td>\n",
       "      <td>6.695009</td>\n",
       "      <td>-1.545156</td>\n",
       "      <td>4.4</td>\n",
       "      <td>None</td>\n",
       "    </tr>\n",
       "    <tr>\n",
       "      <th>1</th>\n",
       "      <td>Asanteman Senior High</td>\n",
       "      <td>Kumasi</td>\n",
       "      <td>+233322023707</td>\n",
       "      <td>School</td>\n",
       "      <td>6.709111</td>\n",
       "      <td>-1.628301</td>\n",
       "      <td>4.2</td>\n",
       "      <td>None</td>\n",
       "    </tr>\n",
       "    <tr>\n",
       "      <th>2</th>\n",
       "      <td>Osei Tutu Senior High School</td>\n",
       "      <td>Akropong, Kumasi</td>\n",
       "      <td>+233547472237</td>\n",
       "      <td>High school</td>\n",
       "      <td>6.737566</td>\n",
       "      <td>-1.722830</td>\n",
       "      <td>4.4</td>\n",
       "      <td>Akropong</td>\n",
       "    </tr>\n",
       "    <tr>\n",
       "      <th>3</th>\n",
       "      <td>Nkawie Senior High Technical School</td>\n",
       "      <td>Nkawie Rd, Kumasi</td>\n",
       "      <td>None</td>\n",
       "      <td>Senior high school</td>\n",
       "      <td>6.668694</td>\n",
       "      <td>-1.805830</td>\n",
       "      <td>4.2</td>\n",
       "      <td>Nkawie Rd</td>\n",
       "    </tr>\n",
       "    <tr>\n",
       "      <th>4</th>\n",
       "      <td>Adu Gyamfi Senior High School</td>\n",
       "      <td>Road, Gyamase</td>\n",
       "      <td>None</td>\n",
       "      <td>School</td>\n",
       "      <td>6.972225</td>\n",
       "      <td>-1.470116</td>\n",
       "      <td>4.3</td>\n",
       "      <td>Road</td>\n",
       "    </tr>\n",
       "    <tr>\n",
       "      <th>...</th>\n",
       "      <td>...</td>\n",
       "      <td>...</td>\n",
       "      <td>...</td>\n",
       "      <td>...</td>\n",
       "      <td>...</td>\n",
       "      <td>...</td>\n",
       "      <td>...</td>\n",
       "      <td>...</td>\n",
       "    </tr>\n",
       "    <tr>\n",
       "      <th>95</th>\n",
       "      <td>Phoenix Preparatory Junior High School</td>\n",
       "      <td>Ejisu</td>\n",
       "      <td>+233245938779</td>\n",
       "      <td>High school</td>\n",
       "      <td>6.715008</td>\n",
       "      <td>-1.473714</td>\n",
       "      <td>4.8</td>\n",
       "      <td>None</td>\n",
       "    </tr>\n",
       "    <tr>\n",
       "      <th>96</th>\n",
       "      <td>DDD Senior High/Technical School</td>\n",
       "      <td>New Atobiase near, Kumasi</td>\n",
       "      <td>+233200567627</td>\n",
       "      <td>School</td>\n",
       "      <td>6.613622</td>\n",
       "      <td>-1.534167</td>\n",
       "      <td>5.0</td>\n",
       "      <td>New Atobiase near</td>\n",
       "    </tr>\n",
       "    <tr>\n",
       "      <th>97</th>\n",
       "      <td>Ejisu Secondary Technical School</td>\n",
       "      <td>Ejisu, Accra</td>\n",
       "      <td>+233546354802</td>\n",
       "      <td>Educational institution</td>\n",
       "      <td>6.717033</td>\n",
       "      <td>-1.468226</td>\n",
       "      <td>3.3</td>\n",
       "      <td>Ejisu</td>\n",
       "    </tr>\n",
       "    <tr>\n",
       "      <th>98</th>\n",
       "      <td>Adu Daniel</td>\n",
       "      <td>MCRG+2VR, Kumasi</td>\n",
       "      <td>None</td>\n",
       "      <td>High school</td>\n",
       "      <td>6.689440</td>\n",
       "      <td>-1.572954</td>\n",
       "      <td>NaN</td>\n",
       "      <td>MCRG+2VR</td>\n",
       "    </tr>\n",
       "    <tr>\n",
       "      <th>99</th>\n",
       "      <td>Krobea Asante Technical Institute</td>\n",
       "      <td>Asokore Ahinsan road</td>\n",
       "      <td>+233244029845</td>\n",
       "      <td>Technical school</td>\n",
       "      <td>6.849051</td>\n",
       "      <td>-1.373115</td>\n",
       "      <td>3.9</td>\n",
       "      <td>Asokore Ahinsan road</td>\n",
       "    </tr>\n",
       "  </tbody>\n",
       "</table>\n",
       "<p>100 rows × 8 columns</p>\n",
       "</div>"
      ],
      "text/plain": [
       "                                      Name                    Address  \\\n",
       "0              St Louis Senior High School                     Kumasi   \n",
       "1                    Asanteman Senior High                     Kumasi   \n",
       "2             Osei Tutu Senior High School           Akropong, Kumasi   \n",
       "3      Nkawie Senior High Technical School          Nkawie Rd, Kumasi   \n",
       "4            Adu Gyamfi Senior High School              Road, Gyamase   \n",
       "..                                     ...                        ...   \n",
       "95  Phoenix Preparatory Junior High School                      Ejisu   \n",
       "96        DDD Senior High/Technical School  New Atobiase near, Kumasi   \n",
       "97        Ejisu Secondary Technical School               Ejisu, Accra   \n",
       "98                              Adu Daniel           MCRG+2VR, Kumasi   \n",
       "99       Krobea Asante Technical Institute       Asokore Ahinsan road   \n",
       "\n",
       "            Phone                 Category  Latitude  Longitude  Rating  \\\n",
       "0   +233547800131              High school  6.695009  -1.545156     4.4   \n",
       "1   +233322023707                   School  6.709111  -1.628301     4.2   \n",
       "2   +233547472237              High school  6.737566  -1.722830     4.4   \n",
       "3            None       Senior high school  6.668694  -1.805830     4.2   \n",
       "4            None                   School  6.972225  -1.470116     4.3   \n",
       "..            ...                      ...       ...        ...     ...   \n",
       "95  +233245938779              High school  6.715008  -1.473714     4.8   \n",
       "96  +233200567627                   School  6.613622  -1.534167     5.0   \n",
       "97  +233546354802  Educational institution  6.717033  -1.468226     3.3   \n",
       "98           None              High school  6.689440  -1.572954     NaN   \n",
       "99  +233244029845         Technical school  6.849051  -1.373115     3.9   \n",
       "\n",
       "    address_info_address  \n",
       "0                   None  \n",
       "1                   None  \n",
       "2               Akropong  \n",
       "3              Nkawie Rd  \n",
       "4                   Road  \n",
       "..                   ...  \n",
       "95                  None  \n",
       "96     New Atobiase near  \n",
       "97                 Ejisu  \n",
       "98              MCRG+2VR  \n",
       "99  Asokore Ahinsan road  \n",
       "\n",
       "[100 rows x 8 columns]"
      ]
     },
     "execution_count": 13,
     "metadata": {},
     "output_type": "execute_result"
    }
   ],
   "source": [
    "df.rename(columns={\"title\":\"Name\",\"address\":\"Address\",\"phone\":\"Phone\",\"category\":\"Category\",\"latitude\":\"Latitude\",\"longitude\":\"Longitude\",\"rating_value\":\"Rating\"},inplace=True)\n",
    "df"
   ]
  },
  {
   "cell_type": "code",
   "execution_count": 14,
   "metadata": {},
   "outputs": [
    {
     "data": {
      "application/vnd.plotly.v1+json": {
       "config": {
        "plotlyServerURL": "https://plot.ly"
       },
       "data": [
        {
         "customdata": [
          [
           "St Louis Senior High School"
          ],
          [
           "Asanteman Senior High"
          ],
          [
           "Osei Tutu Senior High School"
          ],
          [
           "Nkawie Senior High Technical School"
          ],
          [
           "Adu Gyamfi Senior High School"
          ],
          [
           "Konongo Odumase Senior High School"
          ],
          [
           "Afia Kobi Ampem Girls Senior High School"
          ],
          [
           "Serwaa Nyarko Girls' Senior High School"
          ],
          [
           "Nsutaman Catholic Senior High School"
          ],
          [
           "Our Lady of Grace Senior High School"
          ],
          [
           "Kumasi High School"
          ],
          [
           "Mansoman Senior High School"
          ],
          [
           "Barekese Senior High School"
          ],
          [
           "Kwasi Oppong Senior High School"
          ],
          [
           "Anglican Senior High School, Kumasi"
          ],
          [
           "Kumasi Senior High Technical School"
          ],
          [
           "Juaben Senior High School"
          ],
          [
           "Islamic Senior High School"
          ],
          [
           "Hope and Faith Senior High School"
          ],
          [
           "Kumasi Wesley Girls' High School"
          ],
          [
           "Church Of Christ Senior High School"
          ],
          [
           "Opoku Ware School"
          ],
          [
           "Central Senior High school"
          ],
          [
           "T.I. Ahmadiyya Senior High School"
          ],
          [
           "Owerriman Senior High Technical School"
          ],
          [
           "Aduman senior high school"
          ],
          [
           "Akrofuom Senior High Technical School"
          ],
          [
           "Osei Kyeretwie Senior High School"
          ],
          [
           "Bosome Senior High Technical School"
          ],
          [
           "MPASATIA SENIOR HIGH SCHOOL"
          ],
          [
           "Ascension Senior High School"
          ],
          [
           "Adobewora Community Senior High School"
          ],
          [
           "Dompoase Senior High School"
          ],
          [
           "Armed Forces Senior High Technical School"
          ],
          [
           "Komfo Anokye Senior High School"
          ],
          [
           "Mountain High School, Kona Ashanti"
          ],
          [
           "Simms Senior High School"
          ],
          [
           "T.I. Ahmadiyya Girls Senior High School, Asokore"
          ],
          [
           "Adventist Senior High"
          ],
          [
           "Wesley High School"
          ],
          [
           "Elite College"
          ],
          [
           "Uthmaniya Senior High School"
          ],
          [
           "SMA Senoir High School"
          ],
          [
           "Agogo State College"
          ],
          [
           "J A KUFUOR SENIOR HIGH SCHOOL"
          ],
          [
           "St Monica's Junior High School"
          ],
          [
           "Bonwire Senior High Technical School"
          ],
          [
           "Agona Senior High Technical School"
          ],
          [
           "Sakafia Islamic Senior High School"
          ],
          [
           "Agona SDA SHS"
          ],
          [
           "SDA Senior High School, Kenyasi-Kumasi"
          ],
          [
           "St. Sebastian Catholic Senior High School - Adumasa"
          ],
          [
           "Parkoso SHS"
          ],
          [
           "Jacobu Senior High Technical School"
          ],
          [
           "KNUST Senior High School"
          ],
          [
           "Ghana Christian International High School - Ashanti Regional Campus"
          ],
          [
           "Mountain High College And International School"
          ],
          [
           "Anum Asamoah Senior High school"
          ],
          [
           "Ofoase Kokoben Senior High School"
          ],
          [
           "Atwima Kwanwoma Senior High Technical School (AKASS)"
          ],
          [
           "Dwamena Akenten Senior High School"
          ],
          [
           "Ejisuman Senior High School"
          ],
          [
           "Kumasi Girls' Senior High School"
          ],
          [
           "Tweapease Senior High School"
          ],
          [
           "Tijjaniya Senior High school"
          ],
          [
           "Ejisu Senior High Technical School"
          ],
          [
           "Tweneboa Kodua Senior High School"
          ],
          [
           "New Site - Gyaama Pensan Senior High Technical School"
          ],
          [
           "Antoa Senior High School"
          ],
          [
           "Beposo Senior High School"
          ],
          [
           "Bodwesango Senior High School"
          ],
          [
           "Wesley SHS, Konongo-ASOFOMMA"
          ],
          [
           "Jachie-Pramso Senior High School"
          ],
          [
           "FAITH SENIOR HIGH SCHOOL - AYIGYA"
          ],
          [
           "Nigritian Senior high School"
          ],
          [
           "BODOMASE SENIOR HIGH TECHNICAL SCHOOL"
          ],
          [
           "Adanwomase Senior High School"
          ],
          [
           "Konadu Yiadom Senior High School"
          ],
          [
           "Osei Adutwum Senior High School"
          ],
          [
           "Agric Nzema Snr. High Sch."
          ],
          [
           "Sekyedumase Senior High School - Bhengg"
          ],
          [
           "Yaa Asantewaa Girls' Senior High School"
          ],
          [
           "Denyaseman Catholic Senior High"
          ],
          [
           "Kumasi Academy"
          ],
          [
           "AKOMADAN SENIOR HIGH"
          ],
          [
           "Collins Senior High School"
          ],
          [
           "Noble Prince School(JHS/SHS)"
          ],
          [
           "KOFI AGYEI SNR. HIGH TECH"
          ],
          [
           "Adventists Girls Senior High School"
          ],
          [
           "Kurofa Methodist Senior High/ Technical School"
          ],
          [
           "Okomfo Anokye Senior High School, Wiamoase"
          ],
          [
           "Okess shs"
          ],
          [
           "St Jerome Senior High School"
          ],
          [
           "POPGISS"
          ],
          [
           "St Mary's Girls Senior High School"
          ],
          [
           "Phoenix Preparatory Junior High School"
          ],
          [
           "DDD Senior High/Technical School"
          ],
          [
           "Ejisu Secondary Technical School"
          ],
          [
           "Adu Daniel"
          ],
          [
           "Krobea Asante Technical Institute"
          ]
         ],
         "hovertemplate": "Latitude=%{lat}<br>Longitude=%{lon}<br>Name=%{customdata[0]}<extra></extra>",
         "lat": [
          6.6950091,
          6.7091107,
          6.7375662,
          6.6686942,
          6.9722246,
          6.6151200999999995,
          6.6159308999999995,
          6.708913099999999,
          7.0097917999999995,
          6.795015299999999,
          6.6616335,
          6.452469799999999,
          6.8512669,
          6.7316204,
          6.6926105,
          6.6807855,
          6.7873459,
          6.7128045,
          6.7156081,
          6.716427899999999,
          6.704593999999999,
          6.6637337,
          6.4508567,
          6.6814008,
          6.7169813,
          6.8266655,
          6.1254398,
          6.7432951,
          6.4176031,
          6.6613608,
          6.6425977,
          6.543675299999999,
          6.308491,
          6.6666035,
          6.775089899999999,
          7.904465399999999,
          6.7789259,
          6.8518569,
          6.709396099999999,
          6.460736499999999,
          6.6773311,
          6.7221711,
          6.6999777,
          6.801381699999999,
          6.6279398,
          7.0464462999999995,
          6.7936472,
          6.9348657,
          6.6960083,
          6.9273671,
          6.7422498,
          6.5546351,
          6.724505499999999,
          6.3506696,
          6.6897505,
          6.2364888999999994,
          6.851277199999999,
          6.5732753,
          6.4765387,
          6.5762591,
          6.9529229,
          6.7285170999999995,
          6.7296175,
          6.1425811999999995,
          6.8575205,
          6.7173367,
          6.915231899999999,
          6.8194384999999995,
          6.761020599999999,
          6.7362079,
          6.2849262,
          6.6355992,
          6.5633403,
          6.6883491,
          6.7080499,
          6.8896875,
          6.816345399999999,
          6.904096,
          6.56685,
          6.673398,
          7.3073706,
          6.696568399999999,
          6.4418864,
          6.7088456,
          7.391093799999999,
          6.7990626,
          6.7293009999999995,
          6.7922458,
          6.8181940999999995,
          6.6808985,
          7.0524372,
          6.743618,
          7.1399757,
          6.696789,
          6.6171494,
          6.7150079,
          6.6136225,
          6.7170326,
          6.6894404,
          6.849050999999999
         ],
         "legendgroup": "",
         "lon": [
          -1.5451561999999999,
          -1.6283014,
          -1.7228297,
          -1.8058299,
          -1.4701161999999999,
          -1.227024,
          -1.7690956999999998,
          -1.6089449,
          -1.392324,
          -1.5706981999999998,
          -1.5805144999999998,
          -1.8557875,
          -1.726645,
          -1.6271953,
          -1.6087038,
          -1.6439112999999999,
          -1.4652177,
          -1.6411379,
          -1.7087975,
          -1.6197344999999999,
          -1.4048249,
          -1.6452347999999999,
          -1.6340811,
          -1.60751,
          -1.1455235,
          -1.6262942999999999,
          -1.6533696,
          -1.6152670999999998,
          -1.3316774,
          -1.8414134,
          -1.5701568,
          -2.007943,
          -1.5306803999999998,
          -1.6163246999999998,
          -1.5835749,
          -1.0304069,
          -1.5820683,
          -1.3844668,
          -1.6323257,
          -1.5692222999999998,
          -1.5577948,
          -1.6139541,
          -1.5855143999999999,
          -1.0740403,
          -1.6164546,
          -1.4048298,
          -1.4678726,
          -1.4940356,
          -1.5723375,
          -1.4829862999999999,
          -1.5554816999999999,
          -1.3074177,
          -1.5408441,
          -1.6636935,
          -1.5480422999999999,
          -1.4951394,
          -1.515636,
          -1.6182287,
          -1.6385862,
          -1.6792178,
          -1.6755369999999998,
          -1.4743935,
          -1.6601157,
          -1.7318316,
          -1.3810379,
          -1.4682807,
          -1.2806986,
          -1.5393238999999999,
          -1.5193117999999999,
          -1.7236734999999999,
          -1.4187608999999999,
          -1.2055651,
          -1.5163377999999998,
          -1.5644851,
          -1.6054735,
          -1.2496874999999998,
          -1.4807651,
          -1.4412032,
          -1.514243,
          -1.6771378,
          -1.5549817,
          -1.6999684,
          -1.6766599,
          -1.5713863,
          -1.9488086999999998,
          -1.0849592,
          -1.6047426999999999,
          -1.5818166999999999,
          -1.5224834999999999,
          -1.1074747,
          -1.5099677999999999,
          -1.6200759999999998,
          -1.7437242,
          -1.6432399,
          -1.2162442,
          -1.473714,
          -1.5341669,
          -1.4682264999999999,
          -1.5729541999999999,
          -1.3731149999999999
         ],
         "marker": {
          "color": "#636efa"
         },
         "mode": "markers",
         "name": "",
         "showlegend": false,
         "subplot": "mapbox",
         "type": "scattermapbox"
        }
       ],
       "layout": {
        "height": 600,
        "legend": {
         "tracegroupgap": 0
        },
        "mapbox": {
         "center": {
          "lat": 6.7296,
          "lon": -1.6601
         },
         "domain": {
          "x": [
           0,
           1
          ],
          "y": [
           0,
           1
          ]
         },
         "style": "open-street-map",
         "zoom": 8
        },
        "margin": {
         "t": 60
        },
        "template": {
         "data": {
          "bar": [
           {
            "error_x": {
             "color": "#2a3f5f"
            },
            "error_y": {
             "color": "#2a3f5f"
            },
            "marker": {
             "line": {
              "color": "#E5ECF6",
              "width": 0.5
             },
             "pattern": {
              "fillmode": "overlay",
              "size": 10,
              "solidity": 0.2
             }
            },
            "type": "bar"
           }
          ],
          "barpolar": [
           {
            "marker": {
             "line": {
              "color": "#E5ECF6",
              "width": 0.5
             },
             "pattern": {
              "fillmode": "overlay",
              "size": 10,
              "solidity": 0.2
             }
            },
            "type": "barpolar"
           }
          ],
          "carpet": [
           {
            "aaxis": {
             "endlinecolor": "#2a3f5f",
             "gridcolor": "white",
             "linecolor": "white",
             "minorgridcolor": "white",
             "startlinecolor": "#2a3f5f"
            },
            "baxis": {
             "endlinecolor": "#2a3f5f",
             "gridcolor": "white",
             "linecolor": "white",
             "minorgridcolor": "white",
             "startlinecolor": "#2a3f5f"
            },
            "type": "carpet"
           }
          ],
          "choropleth": [
           {
            "colorbar": {
             "outlinewidth": 0,
             "ticks": ""
            },
            "type": "choropleth"
           }
          ],
          "contour": [
           {
            "colorbar": {
             "outlinewidth": 0,
             "ticks": ""
            },
            "colorscale": [
             [
              0,
              "#0d0887"
             ],
             [
              0.1111111111111111,
              "#46039f"
             ],
             [
              0.2222222222222222,
              "#7201a8"
             ],
             [
              0.3333333333333333,
              "#9c179e"
             ],
             [
              0.4444444444444444,
              "#bd3786"
             ],
             [
              0.5555555555555556,
              "#d8576b"
             ],
             [
              0.6666666666666666,
              "#ed7953"
             ],
             [
              0.7777777777777778,
              "#fb9f3a"
             ],
             [
              0.8888888888888888,
              "#fdca26"
             ],
             [
              1,
              "#f0f921"
             ]
            ],
            "type": "contour"
           }
          ],
          "contourcarpet": [
           {
            "colorbar": {
             "outlinewidth": 0,
             "ticks": ""
            },
            "type": "contourcarpet"
           }
          ],
          "heatmap": [
           {
            "colorbar": {
             "outlinewidth": 0,
             "ticks": ""
            },
            "colorscale": [
             [
              0,
              "#0d0887"
             ],
             [
              0.1111111111111111,
              "#46039f"
             ],
             [
              0.2222222222222222,
              "#7201a8"
             ],
             [
              0.3333333333333333,
              "#9c179e"
             ],
             [
              0.4444444444444444,
              "#bd3786"
             ],
             [
              0.5555555555555556,
              "#d8576b"
             ],
             [
              0.6666666666666666,
              "#ed7953"
             ],
             [
              0.7777777777777778,
              "#fb9f3a"
             ],
             [
              0.8888888888888888,
              "#fdca26"
             ],
             [
              1,
              "#f0f921"
             ]
            ],
            "type": "heatmap"
           }
          ],
          "heatmapgl": [
           {
            "colorbar": {
             "outlinewidth": 0,
             "ticks": ""
            },
            "colorscale": [
             [
              0,
              "#0d0887"
             ],
             [
              0.1111111111111111,
              "#46039f"
             ],
             [
              0.2222222222222222,
              "#7201a8"
             ],
             [
              0.3333333333333333,
              "#9c179e"
             ],
             [
              0.4444444444444444,
              "#bd3786"
             ],
             [
              0.5555555555555556,
              "#d8576b"
             ],
             [
              0.6666666666666666,
              "#ed7953"
             ],
             [
              0.7777777777777778,
              "#fb9f3a"
             ],
             [
              0.8888888888888888,
              "#fdca26"
             ],
             [
              1,
              "#f0f921"
             ]
            ],
            "type": "heatmapgl"
           }
          ],
          "histogram": [
           {
            "marker": {
             "pattern": {
              "fillmode": "overlay",
              "size": 10,
              "solidity": 0.2
             }
            },
            "type": "histogram"
           }
          ],
          "histogram2d": [
           {
            "colorbar": {
             "outlinewidth": 0,
             "ticks": ""
            },
            "colorscale": [
             [
              0,
              "#0d0887"
             ],
             [
              0.1111111111111111,
              "#46039f"
             ],
             [
              0.2222222222222222,
              "#7201a8"
             ],
             [
              0.3333333333333333,
              "#9c179e"
             ],
             [
              0.4444444444444444,
              "#bd3786"
             ],
             [
              0.5555555555555556,
              "#d8576b"
             ],
             [
              0.6666666666666666,
              "#ed7953"
             ],
             [
              0.7777777777777778,
              "#fb9f3a"
             ],
             [
              0.8888888888888888,
              "#fdca26"
             ],
             [
              1,
              "#f0f921"
             ]
            ],
            "type": "histogram2d"
           }
          ],
          "histogram2dcontour": [
           {
            "colorbar": {
             "outlinewidth": 0,
             "ticks": ""
            },
            "colorscale": [
             [
              0,
              "#0d0887"
             ],
             [
              0.1111111111111111,
              "#46039f"
             ],
             [
              0.2222222222222222,
              "#7201a8"
             ],
             [
              0.3333333333333333,
              "#9c179e"
             ],
             [
              0.4444444444444444,
              "#bd3786"
             ],
             [
              0.5555555555555556,
              "#d8576b"
             ],
             [
              0.6666666666666666,
              "#ed7953"
             ],
             [
              0.7777777777777778,
              "#fb9f3a"
             ],
             [
              0.8888888888888888,
              "#fdca26"
             ],
             [
              1,
              "#f0f921"
             ]
            ],
            "type": "histogram2dcontour"
           }
          ],
          "mesh3d": [
           {
            "colorbar": {
             "outlinewidth": 0,
             "ticks": ""
            },
            "type": "mesh3d"
           }
          ],
          "parcoords": [
           {
            "line": {
             "colorbar": {
              "outlinewidth": 0,
              "ticks": ""
             }
            },
            "type": "parcoords"
           }
          ],
          "pie": [
           {
            "automargin": true,
            "type": "pie"
           }
          ],
          "scatter": [
           {
            "fillpattern": {
             "fillmode": "overlay",
             "size": 10,
             "solidity": 0.2
            },
            "type": "scatter"
           }
          ],
          "scatter3d": [
           {
            "line": {
             "colorbar": {
              "outlinewidth": 0,
              "ticks": ""
             }
            },
            "marker": {
             "colorbar": {
              "outlinewidth": 0,
              "ticks": ""
             }
            },
            "type": "scatter3d"
           }
          ],
          "scattercarpet": [
           {
            "marker": {
             "colorbar": {
              "outlinewidth": 0,
              "ticks": ""
             }
            },
            "type": "scattercarpet"
           }
          ],
          "scattergeo": [
           {
            "marker": {
             "colorbar": {
              "outlinewidth": 0,
              "ticks": ""
             }
            },
            "type": "scattergeo"
           }
          ],
          "scattergl": [
           {
            "marker": {
             "colorbar": {
              "outlinewidth": 0,
              "ticks": ""
             }
            },
            "type": "scattergl"
           }
          ],
          "scattermapbox": [
           {
            "marker": {
             "colorbar": {
              "outlinewidth": 0,
              "ticks": ""
             }
            },
            "type": "scattermapbox"
           }
          ],
          "scatterpolar": [
           {
            "marker": {
             "colorbar": {
              "outlinewidth": 0,
              "ticks": ""
             }
            },
            "type": "scatterpolar"
           }
          ],
          "scatterpolargl": [
           {
            "marker": {
             "colorbar": {
              "outlinewidth": 0,
              "ticks": ""
             }
            },
            "type": "scatterpolargl"
           }
          ],
          "scatterternary": [
           {
            "marker": {
             "colorbar": {
              "outlinewidth": 0,
              "ticks": ""
             }
            },
            "type": "scatterternary"
           }
          ],
          "surface": [
           {
            "colorbar": {
             "outlinewidth": 0,
             "ticks": ""
            },
            "colorscale": [
             [
              0,
              "#0d0887"
             ],
             [
              0.1111111111111111,
              "#46039f"
             ],
             [
              0.2222222222222222,
              "#7201a8"
             ],
             [
              0.3333333333333333,
              "#9c179e"
             ],
             [
              0.4444444444444444,
              "#bd3786"
             ],
             [
              0.5555555555555556,
              "#d8576b"
             ],
             [
              0.6666666666666666,
              "#ed7953"
             ],
             [
              0.7777777777777778,
              "#fb9f3a"
             ],
             [
              0.8888888888888888,
              "#fdca26"
             ],
             [
              1,
              "#f0f921"
             ]
            ],
            "type": "surface"
           }
          ],
          "table": [
           {
            "cells": {
             "fill": {
              "color": "#EBF0F8"
             },
             "line": {
              "color": "white"
             }
            },
            "header": {
             "fill": {
              "color": "#C8D4E3"
             },
             "line": {
              "color": "white"
             }
            },
            "type": "table"
           }
          ]
         },
         "layout": {
          "annotationdefaults": {
           "arrowcolor": "#2a3f5f",
           "arrowhead": 0,
           "arrowwidth": 1
          },
          "autotypenumbers": "strict",
          "coloraxis": {
           "colorbar": {
            "outlinewidth": 0,
            "ticks": ""
           }
          },
          "colorscale": {
           "diverging": [
            [
             0,
             "#8e0152"
            ],
            [
             0.1,
             "#c51b7d"
            ],
            [
             0.2,
             "#de77ae"
            ],
            [
             0.3,
             "#f1b6da"
            ],
            [
             0.4,
             "#fde0ef"
            ],
            [
             0.5,
             "#f7f7f7"
            ],
            [
             0.6,
             "#e6f5d0"
            ],
            [
             0.7,
             "#b8e186"
            ],
            [
             0.8,
             "#7fbc41"
            ],
            [
             0.9,
             "#4d9221"
            ],
            [
             1,
             "#276419"
            ]
           ],
           "sequential": [
            [
             0,
             "#0d0887"
            ],
            [
             0.1111111111111111,
             "#46039f"
            ],
            [
             0.2222222222222222,
             "#7201a8"
            ],
            [
             0.3333333333333333,
             "#9c179e"
            ],
            [
             0.4444444444444444,
             "#bd3786"
            ],
            [
             0.5555555555555556,
             "#d8576b"
            ],
            [
             0.6666666666666666,
             "#ed7953"
            ],
            [
             0.7777777777777778,
             "#fb9f3a"
            ],
            [
             0.8888888888888888,
             "#fdca26"
            ],
            [
             1,
             "#f0f921"
            ]
           ],
           "sequentialminus": [
            [
             0,
             "#0d0887"
            ],
            [
             0.1111111111111111,
             "#46039f"
            ],
            [
             0.2222222222222222,
             "#7201a8"
            ],
            [
             0.3333333333333333,
             "#9c179e"
            ],
            [
             0.4444444444444444,
             "#bd3786"
            ],
            [
             0.5555555555555556,
             "#d8576b"
            ],
            [
             0.6666666666666666,
             "#ed7953"
            ],
            [
             0.7777777777777778,
             "#fb9f3a"
            ],
            [
             0.8888888888888888,
             "#fdca26"
            ],
            [
             1,
             "#f0f921"
            ]
           ]
          },
          "colorway": [
           "#636efa",
           "#EF553B",
           "#00cc96",
           "#ab63fa",
           "#FFA15A",
           "#19d3f3",
           "#FF6692",
           "#B6E880",
           "#FF97FF",
           "#FECB52"
          ],
          "font": {
           "color": "#2a3f5f"
          },
          "geo": {
           "bgcolor": "white",
           "lakecolor": "white",
           "landcolor": "#E5ECF6",
           "showlakes": true,
           "showland": true,
           "subunitcolor": "white"
          },
          "hoverlabel": {
           "align": "left"
          },
          "hovermode": "closest",
          "mapbox": {
           "style": "light"
          },
          "paper_bgcolor": "white",
          "plot_bgcolor": "#E5ECF6",
          "polar": {
           "angularaxis": {
            "gridcolor": "white",
            "linecolor": "white",
            "ticks": ""
           },
           "bgcolor": "#E5ECF6",
           "radialaxis": {
            "gridcolor": "white",
            "linecolor": "white",
            "ticks": ""
           }
          },
          "scene": {
           "xaxis": {
            "backgroundcolor": "#E5ECF6",
            "gridcolor": "white",
            "gridwidth": 2,
            "linecolor": "white",
            "showbackground": true,
            "ticks": "",
            "zerolinecolor": "white"
           },
           "yaxis": {
            "backgroundcolor": "#E5ECF6",
            "gridcolor": "white",
            "gridwidth": 2,
            "linecolor": "white",
            "showbackground": true,
            "ticks": "",
            "zerolinecolor": "white"
           },
           "zaxis": {
            "backgroundcolor": "#E5ECF6",
            "gridcolor": "white",
            "gridwidth": 2,
            "linecolor": "white",
            "showbackground": true,
            "ticks": "",
            "zerolinecolor": "white"
           }
          },
          "shapedefaults": {
           "line": {
            "color": "#2a3f5f"
           }
          },
          "ternary": {
           "aaxis": {
            "gridcolor": "white",
            "linecolor": "white",
            "ticks": ""
           },
           "baxis": {
            "gridcolor": "white",
            "linecolor": "white",
            "ticks": ""
           },
           "bgcolor": "#E5ECF6",
           "caxis": {
            "gridcolor": "white",
            "linecolor": "white",
            "ticks": ""
           }
          },
          "title": {
           "x": 0.05
          },
          "xaxis": {
           "automargin": true,
           "gridcolor": "white",
           "linecolor": "white",
           "ticks": "",
           "title": {
            "standoff": 15
           },
           "zerolinecolor": "white",
           "zerolinewidth": 2
          },
          "yaxis": {
           "automargin": true,
           "gridcolor": "white",
           "linecolor": "white",
           "ticks": "",
           "title": {
            "standoff": 15
           },
           "zerolinecolor": "white",
           "zerolinewidth": 2
          }
         }
        },
        "width": 600
       }
      }
     },
     "metadata": {},
     "output_type": "display_data"
    }
   ],
   "source": [
    "import matplotlib.pyplot as plt\n",
    "import seaborn as sns\n",
    "import plotly_express as px\n",
    "\n",
    "\n",
    "fig = px.scatter_mapbox(\n",
    "    df,  # Our DataFrame\n",
    "    lat=\"Latitude\",\n",
    "    lon=\"Longitude\",\n",
    "    center={\"lat\": 6.7296, \"lon\": -1.6601},  # Map will be centered on Kumasi\n",
    "    width=600,  # Width of map\n",
    "    height=600,  # Height of map\n",
    "    hover_data=[\"Name\"],  # Display name when hovering mouse over school\n",
    ")\n",
    "\n",
    "# Add mapbox_style to figure layout\n",
    "fig.update_layout(mapbox_style=\"open-street-map\")\n",
    "\n",
    "# Show figure\n",
    "fig.show()"
   ]
  },
  {
   "cell_type": "code",
   "execution_count": 15,
   "metadata": {},
   "outputs": [
    {
     "data": {
      "text/plain": [
       "array([None, 'Akropong', 'Nkawie Rd', 'Road', 'Oxford street',\n",
       "       'J68J+99C, Kwanwoma District, Fosse.', 'P94R+W52',\n",
       "       'Nsuta-Nintin Rd', 'GRACE AVENUE', 'MC69+MQ5', 'F42V+XMP',\n",
       "       'Barekese', '68 Kwasi Oppong Co Road', 'Zongo',\n",
       "       'West End Hospital Bypass', 'Asante', 'Abrepo Rd',\n",
       "       'P78R+6FW, Abuakwa', 'Adadientem', '79 Mankessim - Kumasi Rd',\n",
       "       'Ashanti Bekwai - Anwiankwanta - Daa off Obuasi Rd Anwiankwanta - Daa box 117 Daa Off Obuasi Rd After River Oda bridge',\n",
       "       'M9JR+JRQ, 121 Yaa Asantewa Rd', 'R9GF+MF8', 'Akrofuom Road',\n",
       "       'P9VM+8V9', 'CM99+28W', 'M565+GCW', 'JCVH+2WP, Esereso Sawua Rd',\n",
       "       'GXVR+FRF', '8F59+9PW', 'QCH9+H5F, Mampong Road, Kumasi Fawoade',\n",
       "       'VJ28+P6V', 'P959+Q33, Western By-Pass Rd', 'FC6J+78R', 'KNUST,',\n",
       "       'P.V. Obeng by Pass', 'RW3F+9MQ, Agogo-Mpraeso Rd', 'J9HJ+9XX',\n",
       "       '2HWW+H3F', 'Box 40, Bonwire', 'WGM4+W9W', 'Unnamed Road',\n",
       "       'Jhfykottrr to ohfd do it rsf', 'Mampong Road', 'Accra Rd',\n",
       "       '8 Kumasi - Yamoransa Rd', 'H9FJ+8P6',\n",
       "       'AB-0830-1059 BOX 243, BEKWAI', 'Bekwai Rd', 'Kumasi-Techiman',\n",
       "       'PGHG+C65',\n",
       "       'P8HQ+RXR, Opposite Kumasi girls first gate Kumasi Kumasi girls first gate',\n",
       "       'VJ59+2H4', 'PG8J+WMQ', 'WP89+3PV', 'Gyapesh Road', 'QF6J+C74',\n",
       "       'Obuasi', '7HMJ+XFH', 'JQQV+W6, KN 88', 'HF7M+8FM',\n",
       "       'MCQP+86J, AYIGYA, NEAR CCC BEHIND, KNUST Police Station Roundabout',\n",
       "       'P95V+6R6, Antoa Rd', 'Bodomase', 'RG89+GP5, Unnamed Road',\n",
       "       'asante', 'HF8P+P8R', '8C4W+W2R', 'M8W2+J2F', 'C8RF+Q84',\n",
       "       'PC5H+GCQ', '93R2+CFP', 'P9HW+P4C', 'Fawoade Kofi Agyei Junc',\n",
       "       'MVJV+922, Unnamed Road', '3F2R+X2F', 'P9VH+CXV', '47Q4+XGR',\n",
       "       'M9W4+PP6', 'JQ8M+VG2', 'New Atobiase near', 'Ejisu', 'MCRG+2VR',\n",
       "       'Asokore Ahinsan road'], dtype=object)"
      ]
     },
     "execution_count": 15,
     "metadata": {},
     "output_type": "execute_result"
    }
   ],
   "source": [
    "df[\"address_info_address\"].unique()"
   ]
  },
  {
   "cell_type": "code",
   "execution_count": 16,
   "metadata": {},
   "outputs": [
    {
     "name": "stderr",
     "output_type": "stream",
     "text": [
      "<>:3: SyntaxWarning:\n",
      "\n",
      "invalid escape sequence '\\+'\n",
      "\n",
      "<>:3: SyntaxWarning:\n",
      "\n",
      "invalid escape sequence '\\+'\n",
      "\n",
      "C:\\Users\\USER\\AppData\\Local\\Temp\\ipykernel_6160\\2360075594.py:3: SyntaxWarning:\n",
      "\n",
      "invalid escape sequence '\\+'\n",
      "\n"
     ]
    },
    {
     "data": {
      "text/html": [
       "<div>\n",
       "<style scoped>\n",
       "    .dataframe tbody tr th:only-of-type {\n",
       "        vertical-align: middle;\n",
       "    }\n",
       "\n",
       "    .dataframe tbody tr th {\n",
       "        vertical-align: top;\n",
       "    }\n",
       "\n",
       "    .dataframe thead th {\n",
       "        text-align: right;\n",
       "    }\n",
       "</style>\n",
       "<table border=\"1\" class=\"dataframe\">\n",
       "  <thead>\n",
       "    <tr style=\"text-align: right;\">\n",
       "      <th></th>\n",
       "      <th>Name</th>\n",
       "      <th>Address</th>\n",
       "      <th>Phone</th>\n",
       "      <th>Category</th>\n",
       "      <th>Latitude</th>\n",
       "      <th>Longitude</th>\n",
       "      <th>Rating</th>\n",
       "      <th>address_info_address</th>\n",
       "    </tr>\n",
       "  </thead>\n",
       "  <tbody>\n",
       "    <tr>\n",
       "      <th>0</th>\n",
       "      <td>St Louis Senior High School</td>\n",
       "      <td>Kumasi</td>\n",
       "      <td>+233547800131</td>\n",
       "      <td>High school</td>\n",
       "      <td>6.695009</td>\n",
       "      <td>-1.545156</td>\n",
       "      <td>4.4</td>\n",
       "      <td>None</td>\n",
       "    </tr>\n",
       "    <tr>\n",
       "      <th>1</th>\n",
       "      <td>Asanteman Senior High</td>\n",
       "      <td>Kumasi</td>\n",
       "      <td>+233322023707</td>\n",
       "      <td>School</td>\n",
       "      <td>6.709111</td>\n",
       "      <td>-1.628301</td>\n",
       "      <td>4.2</td>\n",
       "      <td>None</td>\n",
       "    </tr>\n",
       "    <tr>\n",
       "      <th>2</th>\n",
       "      <td>Osei Tutu Senior High School</td>\n",
       "      <td>Akropong, Kumasi</td>\n",
       "      <td>+233547472237</td>\n",
       "      <td>High school</td>\n",
       "      <td>6.737566</td>\n",
       "      <td>-1.722830</td>\n",
       "      <td>4.4</td>\n",
       "      <td>Akropong</td>\n",
       "    </tr>\n",
       "    <tr>\n",
       "      <th>3</th>\n",
       "      <td>Nkawie Senior High Technical School</td>\n",
       "      <td>Nkawie Rd, Kumasi</td>\n",
       "      <td>None</td>\n",
       "      <td>Senior high school</td>\n",
       "      <td>6.668694</td>\n",
       "      <td>-1.805830</td>\n",
       "      <td>4.2</td>\n",
       "      <td>Nkawie Rd</td>\n",
       "    </tr>\n",
       "    <tr>\n",
       "      <th>4</th>\n",
       "      <td>Adu Gyamfi Senior High School</td>\n",
       "      <td>Road, Gyamase</td>\n",
       "      <td>None</td>\n",
       "      <td>School</td>\n",
       "      <td>6.972225</td>\n",
       "      <td>-1.470116</td>\n",
       "      <td>4.3</td>\n",
       "      <td>Road</td>\n",
       "    </tr>\n",
       "    <tr>\n",
       "      <th>...</th>\n",
       "      <td>...</td>\n",
       "      <td>...</td>\n",
       "      <td>...</td>\n",
       "      <td>...</td>\n",
       "      <td>...</td>\n",
       "      <td>...</td>\n",
       "      <td>...</td>\n",
       "      <td>...</td>\n",
       "    </tr>\n",
       "    <tr>\n",
       "      <th>95</th>\n",
       "      <td>Phoenix Preparatory Junior High School</td>\n",
       "      <td>Ejisu</td>\n",
       "      <td>+233245938779</td>\n",
       "      <td>High school</td>\n",
       "      <td>6.715008</td>\n",
       "      <td>-1.473714</td>\n",
       "      <td>4.8</td>\n",
       "      <td>None</td>\n",
       "    </tr>\n",
       "    <tr>\n",
       "      <th>96</th>\n",
       "      <td>DDD Senior High/Technical School</td>\n",
       "      <td>New Atobiase near, Kumasi</td>\n",
       "      <td>+233200567627</td>\n",
       "      <td>School</td>\n",
       "      <td>6.613622</td>\n",
       "      <td>-1.534167</td>\n",
       "      <td>5.0</td>\n",
       "      <td>New Atobiase near</td>\n",
       "    </tr>\n",
       "    <tr>\n",
       "      <th>97</th>\n",
       "      <td>Ejisu Secondary Technical School</td>\n",
       "      <td>Ejisu, Accra</td>\n",
       "      <td>+233546354802</td>\n",
       "      <td>Educational institution</td>\n",
       "      <td>6.717033</td>\n",
       "      <td>-1.468226</td>\n",
       "      <td>3.3</td>\n",
       "      <td>Ejisu</td>\n",
       "    </tr>\n",
       "    <tr>\n",
       "      <th>98</th>\n",
       "      <td>Adu Daniel</td>\n",
       "      <td>MCRG+2VR, Kumasi</td>\n",
       "      <td>None</td>\n",
       "      <td>High school</td>\n",
       "      <td>6.689440</td>\n",
       "      <td>-1.572954</td>\n",
       "      <td>NaN</td>\n",
       "      <td>None</td>\n",
       "    </tr>\n",
       "    <tr>\n",
       "      <th>99</th>\n",
       "      <td>Krobea Asante Technical Institute</td>\n",
       "      <td>Asokore Ahinsan road</td>\n",
       "      <td>+233244029845</td>\n",
       "      <td>Technical school</td>\n",
       "      <td>6.849051</td>\n",
       "      <td>-1.373115</td>\n",
       "      <td>3.9</td>\n",
       "      <td>Asokore Ahinsan road</td>\n",
       "    </tr>\n",
       "  </tbody>\n",
       "</table>\n",
       "<p>100 rows × 8 columns</p>\n",
       "</div>"
      ],
      "text/plain": [
       "                                      Name                    Address  \\\n",
       "0              St Louis Senior High School                     Kumasi   \n",
       "1                    Asanteman Senior High                     Kumasi   \n",
       "2             Osei Tutu Senior High School           Akropong, Kumasi   \n",
       "3      Nkawie Senior High Technical School          Nkawie Rd, Kumasi   \n",
       "4            Adu Gyamfi Senior High School              Road, Gyamase   \n",
       "..                                     ...                        ...   \n",
       "95  Phoenix Preparatory Junior High School                      Ejisu   \n",
       "96        DDD Senior High/Technical School  New Atobiase near, Kumasi   \n",
       "97        Ejisu Secondary Technical School               Ejisu, Accra   \n",
       "98                              Adu Daniel           MCRG+2VR, Kumasi   \n",
       "99       Krobea Asante Technical Institute       Asokore Ahinsan road   \n",
       "\n",
       "            Phone                 Category  Latitude  Longitude  Rating  \\\n",
       "0   +233547800131              High school  6.695009  -1.545156     4.4   \n",
       "1   +233322023707                   School  6.709111  -1.628301     4.2   \n",
       "2   +233547472237              High school  6.737566  -1.722830     4.4   \n",
       "3            None       Senior high school  6.668694  -1.805830     4.2   \n",
       "4            None                   School  6.972225  -1.470116     4.3   \n",
       "..            ...                      ...       ...        ...     ...   \n",
       "95  +233245938779              High school  6.715008  -1.473714     4.8   \n",
       "96  +233200567627                   School  6.613622  -1.534167     5.0   \n",
       "97  +233546354802  Educational institution  6.717033  -1.468226     3.3   \n",
       "98           None              High school  6.689440  -1.572954     NaN   \n",
       "99  +233244029845         Technical school  6.849051  -1.373115     3.9   \n",
       "\n",
       "    address_info_address  \n",
       "0                   None  \n",
       "1                   None  \n",
       "2               Akropong  \n",
       "3              Nkawie Rd  \n",
       "4                   Road  \n",
       "..                   ...  \n",
       "95                  None  \n",
       "96     New Atobiase near  \n",
       "97                 Ejisu  \n",
       "98                  None  \n",
       "99  Asokore Ahinsan road  \n",
       "\n",
       "[100 rows x 8 columns]"
      ]
     },
     "execution_count": 16,
     "metadata": {},
     "output_type": "execute_result"
    }
   ],
   "source": [
    "import numpy as np\n",
    "def format_address(df):\n",
    "    df['address_info_address'] = np.where(df['address_info_address'].str.contains('\\+'), None, df['address_info_address'])\n",
    "\n",
    "# Apply the function to the DataFrame\n",
    "format_address(df)\n",
    "df"
   ]
  },
  {
   "cell_type": "code",
   "execution_count": 17,
   "metadata": {},
   "outputs": [
    {
     "data": {
      "text/plain": [
       "array(['Kumasi', 'Akropong, Kumasi', 'Nkawie Rd, Kumasi', 'Road, Gyamase',\n",
       "       'Oxford street, Konongo',\n",
       "       'J68J+99C, Kwanwoma District, Fosse., Nkurang', 'P94R+W52, Kumasi',\n",
       "       'Nsuta-Nintin Rd, Nsuta', 'GRACE AVENUE, Kumasi',\n",
       "       'MC69+MQ5, Kumasi', 'F42V+XMP, Manso Atwere', 'Barekese, Kumasi',\n",
       "       '68 Kwasi Oppong Co Road, Kumasi', 'Zongo, Kumasi',\n",
       "       'West End Hospital Bypass, Kumasi', 'Asante, Juaben',\n",
       "       'Abrepo Rd, Kumasi', 'P78R+6FW, Abuakwa, Kumasi',\n",
       "       'Adadientem, Ejisu', '79 Mankessim - Kumasi Rd, Kumasi',\n",
       "       'Ashanti Bekwai - Anwiankwanta - Daa off Obuasi Rd Anwiankwanta - Daa box 117 Daa Off Obuasi Rd After River Oda bridge, Kumasi',\n",
       "       'M9JR+JRQ, 121 Yaa Asantewa Rd, Kumasi', 'Domeabra',\n",
       "       'R9GF+MF8, Aduman', 'Akrofuom Road, Amankyim', 'P9VM+8V9, Kumasi',\n",
       "       'CM99+28W, Asiwa', 'M565+GCW, Mpasatia',\n",
       "       'JCVH+2WP, Esereso Sawua Rd, Kumasi', 'GXVR+FRF, Kumasi',\n",
       "       '8F59+9PW, Dompoase', None,\n",
       "       'QCH9+H5F, Mampong Road, Kumasi Fawoade, Kumasi',\n",
       "       'VJ28+P6V, Effiduase', 'P959+Q33, Western By-Pass Rd, Kumasi',\n",
       "       'FC6J+78R, Bekwai', 'KNUST,, Kumasi', 'P.V. Obeng by Pass, Kumasi',\n",
       "       'RW3F+9MQ, Agogo-Mpraeso Rd, Agogo', 'J9HJ+9XX, Kumasi',\n",
       "       '2HWW+H3F, Mampong', 'Box 40, Bonwire', 'WGM4+W9W, Agona',\n",
       "       'Unnamed Road, Kumasi', 'Agona',\n",
       "       'Jhfykottrr to ohfd do it rsf, Adumasa', 'Mampong Road, Kumasi',\n",
       "       'Jacobo', 'Accra Rd, Kumasi',\n",
       "       '8 Kumasi - Yamoransa Rd, New Edubiase', 'Ntonso',\n",
       "       'H9FJ+8P6, Sokoban',\n",
       "       'AB-0830-1059 BOX 243, BEKWAI, Ofoase Kokoben', 'Bekwai Rd, Trede',\n",
       "       'Kumasi-Techiman, Ofinso', 'PGHG+C65, Ejisu',\n",
       "       'P8HQ+RXR, Opposite Kumasi girls first gate Kumasi Kumasi girls first gate, Kumasi',\n",
       "       'Suhenso', 'VJ59+2H4, Effiduase', 'PG8J+WMQ, Ejisu',\n",
       "       'WP89+3PV, Kumawu', 'Gyapesh Road, Aboaso', 'QF6J+C74, Antoa',\n",
       "       'Obuasi, Kumasi', '7HMJ+XFH, Bodwesango',\n",
       "       'JQQV+W6, KN 88, Konongo', 'HF7M+8FM, Pramso',\n",
       "       'MCQP+86J, AYIGYA, NEAR CCC BEHIND, KNUST Police Station Roundabout, Kumasi',\n",
       "       'P95V+6R6, Antoa Rd, Kumasi', 'Bodomase, Kumawu',\n",
       "       'RG89+GP5, Unnamed Road, Adanwomase', 'asante, Asante-Asamang',\n",
       "       'HF8P+P8R', '8C4W+W2R, Sekyedumase', 'M8W2+J2F, Kumasi',\n",
       "       'C8RF+Q84, Huntado', 'PC5H+GCQ, Kumasi', '93R2+CFP, Akumadan',\n",
       "       'Agogo', 'P9HW+P4C, Kumasi', 'Fawoade Kofi Agyei Junc, Kumasi',\n",
       "       'MVJV+922, Unnamed Road, Krofa', '3F2R+X2F, Wiamoase',\n",
       "       'P9VH+CXV, Kumasi', '47Q4+XGR, Abofour', 'M9W4+PP6, Kumasi',\n",
       "       'JQ8M+VG2, Konongo', 'Ejisu', 'New Atobiase near, Kumasi',\n",
       "       'Ejisu, Accra', 'MCRG+2VR, Kumasi', 'Asokore Ahinsan road'],\n",
       "      dtype=object)"
      ]
     },
     "execution_count": 17,
     "metadata": {},
     "output_type": "execute_result"
    }
   ],
   "source": [
    "df[\"Address\"].unique()"
   ]
  },
  {
   "cell_type": "code",
   "execution_count": 18,
   "metadata": {},
   "outputs": [
    {
     "data": {
      "text/plain": [
       "array([None, 'Akropong', 'Nkawie Rd', 'Road', 'Oxford street',\n",
       "       'Nsuta-Nintin Rd', 'GRACE AVENUE', 'Barekese',\n",
       "       '68 Kwasi Oppong Co Road', 'Zongo', 'West End Hospital Bypass',\n",
       "       'Asante', 'Abrepo Rd', 'Adadientem', '79 Mankessim - Kumasi Rd',\n",
       "       'Ashanti Bekwai - Anwiankwanta - Daa off Obuasi Rd Anwiankwanta - Daa box 117 Daa Off Obuasi Rd After River Oda bridge',\n",
       "       'Akrofuom Road', 'KNUST,', 'P.V. Obeng by Pass', 'Box 40, Bonwire',\n",
       "       'Unnamed Road', 'Jhfykottrr to ohfd do it rsf', 'Mampong Road',\n",
       "       'Accra Rd', '8 Kumasi - Yamoransa Rd',\n",
       "       'AB-0830-1059 BOX 243, BEKWAI', 'Bekwai Rd', 'Kumasi-Techiman',\n",
       "       'Gyapesh Road', 'Obuasi', 'Bodomase', 'asante',\n",
       "       'Fawoade Kofi Agyei Junc', 'New Atobiase near', 'Ejisu',\n",
       "       'Asokore Ahinsan road'], dtype=object)"
      ]
     },
     "execution_count": 18,
     "metadata": {},
     "output_type": "execute_result"
    }
   ],
   "source": [
    "df[\"address_info_address\"].unique()"
   ]
  },
  {
   "cell_type": "code",
   "execution_count": 19,
   "metadata": {},
   "outputs": [
    {
     "name": "stdout",
     "output_type": "stream",
     "text": [
      "<class 'pandas.core.frame.DataFrame'>\n",
      "RangeIndex: 100 entries, 0 to 99\n",
      "Data columns (total 8 columns):\n",
      " #   Column                Non-Null Count  Dtype  \n",
      "---  ------                --------------  -----  \n",
      " 0   Name                  100 non-null    object \n",
      " 1   Address               99 non-null     object \n",
      " 2   Phone                 74 non-null     object \n",
      " 3   Category              100 non-null    object \n",
      " 4   Latitude              100 non-null    float64\n",
      " 5   Longitude             100 non-null    float64\n",
      " 6   Rating                98 non-null     float64\n",
      " 7   address_info_address  36 non-null     object \n",
      "dtypes: float64(3), object(5)\n",
      "memory usage: 6.4+ KB\n"
     ]
    }
   ],
   "source": [
    "df.info()"
   ]
  },
  {
   "cell_type": "code",
   "execution_count": 20,
   "metadata": {},
   "outputs": [],
   "source": [
    "mean_values=df[\"Rating\"].mean()\n",
    "df[\"Rating\"]=df[\"Rating\"].fillna(mean_values)"
   ]
  },
  {
   "cell_type": "code",
   "execution_count": 21,
   "metadata": {},
   "outputs": [
    {
     "name": "stdout",
     "output_type": "stream",
     "text": [
      "<class 'pandas.core.frame.DataFrame'>\n",
      "RangeIndex: 100 entries, 0 to 99\n",
      "Data columns (total 8 columns):\n",
      " #   Column                Non-Null Count  Dtype  \n",
      "---  ------                --------------  -----  \n",
      " 0   Name                  100 non-null    object \n",
      " 1   Address               99 non-null     object \n",
      " 2   Phone                 74 non-null     object \n",
      " 3   Category              100 non-null    object \n",
      " 4   Latitude              100 non-null    float64\n",
      " 5   Longitude             100 non-null    float64\n",
      " 6   Rating                100 non-null    float64\n",
      " 7   address_info_address  36 non-null     object \n",
      "dtypes: float64(3), object(5)\n",
      "memory usage: 6.4+ KB\n"
     ]
    }
   ],
   "source": [
    "df.info()"
   ]
  },
  {
   "cell_type": "code",
   "execution_count": 22,
   "metadata": {},
   "outputs": [
    {
     "data": {
      "text/html": [
       "<div>\n",
       "<style scoped>\n",
       "    .dataframe tbody tr th:only-of-type {\n",
       "        vertical-align: middle;\n",
       "    }\n",
       "\n",
       "    .dataframe tbody tr th {\n",
       "        vertical-align: top;\n",
       "    }\n",
       "\n",
       "    .dataframe thead th {\n",
       "        text-align: right;\n",
       "    }\n",
       "</style>\n",
       "<table border=\"1\" class=\"dataframe\">\n",
       "  <thead>\n",
       "    <tr style=\"text-align: right;\">\n",
       "      <th></th>\n",
       "      <th>Name</th>\n",
       "      <th>Address</th>\n",
       "      <th>Phone</th>\n",
       "      <th>Category</th>\n",
       "      <th>Latitude</th>\n",
       "      <th>Longitude</th>\n",
       "      <th>Rating</th>\n",
       "      <th>address_info_address</th>\n",
       "    </tr>\n",
       "  </thead>\n",
       "  <tbody>\n",
       "    <tr>\n",
       "      <th>0</th>\n",
       "      <td>St Louis Senior High School</td>\n",
       "      <td>Kumasi</td>\n",
       "      <td>+233547800131</td>\n",
       "      <td>High school</td>\n",
       "      <td>6.695009</td>\n",
       "      <td>-1.545156</td>\n",
       "      <td>4.400000</td>\n",
       "      <td>None</td>\n",
       "    </tr>\n",
       "    <tr>\n",
       "      <th>1</th>\n",
       "      <td>Asanteman Senior High</td>\n",
       "      <td>Kumasi</td>\n",
       "      <td>+233322023707</td>\n",
       "      <td>School</td>\n",
       "      <td>6.709111</td>\n",
       "      <td>-1.628301</td>\n",
       "      <td>4.200000</td>\n",
       "      <td>None</td>\n",
       "    </tr>\n",
       "    <tr>\n",
       "      <th>2</th>\n",
       "      <td>Osei Tutu Senior High School</td>\n",
       "      <td>Akropong, Kumasi</td>\n",
       "      <td>+233547472237</td>\n",
       "      <td>High school</td>\n",
       "      <td>6.737566</td>\n",
       "      <td>-1.722830</td>\n",
       "      <td>4.400000</td>\n",
       "      <td>Akropong</td>\n",
       "    </tr>\n",
       "    <tr>\n",
       "      <th>3</th>\n",
       "      <td>Nkawie Senior High Technical School</td>\n",
       "      <td>Nkawie Rd, Kumasi</td>\n",
       "      <td>None</td>\n",
       "      <td>Senior high school</td>\n",
       "      <td>6.668694</td>\n",
       "      <td>-1.805830</td>\n",
       "      <td>4.200000</td>\n",
       "      <td>Nkawie Rd</td>\n",
       "    </tr>\n",
       "    <tr>\n",
       "      <th>4</th>\n",
       "      <td>Adu Gyamfi Senior High School</td>\n",
       "      <td>Road, Gyamase</td>\n",
       "      <td>None</td>\n",
       "      <td>School</td>\n",
       "      <td>6.972225</td>\n",
       "      <td>-1.470116</td>\n",
       "      <td>4.300000</td>\n",
       "      <td>Road</td>\n",
       "    </tr>\n",
       "    <tr>\n",
       "      <th>...</th>\n",
       "      <td>...</td>\n",
       "      <td>...</td>\n",
       "      <td>...</td>\n",
       "      <td>...</td>\n",
       "      <td>...</td>\n",
       "      <td>...</td>\n",
       "      <td>...</td>\n",
       "      <td>...</td>\n",
       "    </tr>\n",
       "    <tr>\n",
       "      <th>95</th>\n",
       "      <td>Phoenix Preparatory Junior High School</td>\n",
       "      <td>Ejisu</td>\n",
       "      <td>+233245938779</td>\n",
       "      <td>High school</td>\n",
       "      <td>6.715008</td>\n",
       "      <td>-1.473714</td>\n",
       "      <td>4.800000</td>\n",
       "      <td>None</td>\n",
       "    </tr>\n",
       "    <tr>\n",
       "      <th>96</th>\n",
       "      <td>DDD Senior High/Technical School</td>\n",
       "      <td>New Atobiase near, Kumasi</td>\n",
       "      <td>+233200567627</td>\n",
       "      <td>School</td>\n",
       "      <td>6.613622</td>\n",
       "      <td>-1.534167</td>\n",
       "      <td>5.000000</td>\n",
       "      <td>New Atobiase near</td>\n",
       "    </tr>\n",
       "    <tr>\n",
       "      <th>97</th>\n",
       "      <td>Ejisu Secondary Technical School</td>\n",
       "      <td>Ejisu, Accra</td>\n",
       "      <td>+233546354802</td>\n",
       "      <td>Educational institution</td>\n",
       "      <td>6.717033</td>\n",
       "      <td>-1.468226</td>\n",
       "      <td>3.300000</td>\n",
       "      <td>Ejisu</td>\n",
       "    </tr>\n",
       "    <tr>\n",
       "      <th>98</th>\n",
       "      <td>Adu Daniel</td>\n",
       "      <td>MCRG+2VR, Kumasi</td>\n",
       "      <td>None</td>\n",
       "      <td>High school</td>\n",
       "      <td>6.689440</td>\n",
       "      <td>-1.572954</td>\n",
       "      <td>4.162245</td>\n",
       "      <td>None</td>\n",
       "    </tr>\n",
       "    <tr>\n",
       "      <th>99</th>\n",
       "      <td>Krobea Asante Technical Institute</td>\n",
       "      <td>Asokore Ahinsan road</td>\n",
       "      <td>+233244029845</td>\n",
       "      <td>Technical school</td>\n",
       "      <td>6.849051</td>\n",
       "      <td>-1.373115</td>\n",
       "      <td>3.900000</td>\n",
       "      <td>Asokore Ahinsan road</td>\n",
       "    </tr>\n",
       "  </tbody>\n",
       "</table>\n",
       "<p>100 rows × 8 columns</p>\n",
       "</div>"
      ],
      "text/plain": [
       "                                      Name                    Address  \\\n",
       "0              St Louis Senior High School                     Kumasi   \n",
       "1                    Asanteman Senior High                     Kumasi   \n",
       "2             Osei Tutu Senior High School           Akropong, Kumasi   \n",
       "3      Nkawie Senior High Technical School          Nkawie Rd, Kumasi   \n",
       "4            Adu Gyamfi Senior High School              Road, Gyamase   \n",
       "..                                     ...                        ...   \n",
       "95  Phoenix Preparatory Junior High School                      Ejisu   \n",
       "96        DDD Senior High/Technical School  New Atobiase near, Kumasi   \n",
       "97        Ejisu Secondary Technical School               Ejisu, Accra   \n",
       "98                              Adu Daniel           MCRG+2VR, Kumasi   \n",
       "99       Krobea Asante Technical Institute       Asokore Ahinsan road   \n",
       "\n",
       "            Phone                 Category  Latitude  Longitude    Rating  \\\n",
       "0   +233547800131              High school  6.695009  -1.545156  4.400000   \n",
       "1   +233322023707                   School  6.709111  -1.628301  4.200000   \n",
       "2   +233547472237              High school  6.737566  -1.722830  4.400000   \n",
       "3            None       Senior high school  6.668694  -1.805830  4.200000   \n",
       "4            None                   School  6.972225  -1.470116  4.300000   \n",
       "..            ...                      ...       ...        ...       ...   \n",
       "95  +233245938779              High school  6.715008  -1.473714  4.800000   \n",
       "96  +233200567627                   School  6.613622  -1.534167  5.000000   \n",
       "97  +233546354802  Educational institution  6.717033  -1.468226  3.300000   \n",
       "98           None              High school  6.689440  -1.572954  4.162245   \n",
       "99  +233244029845         Technical school  6.849051  -1.373115  3.900000   \n",
       "\n",
       "    address_info_address  \n",
       "0                   None  \n",
       "1                   None  \n",
       "2               Akropong  \n",
       "3              Nkawie Rd  \n",
       "4                   Road  \n",
       "..                   ...  \n",
       "95                  None  \n",
       "96     New Atobiase near  \n",
       "97                 Ejisu  \n",
       "98                  None  \n",
       "99  Asokore Ahinsan road  \n",
       "\n",
       "[100 rows x 8 columns]"
      ]
     },
     "execution_count": 22,
     "metadata": {},
     "output_type": "execute_result"
    }
   ],
   "source": [
    "df\n"
   ]
  },
  {
   "cell_type": "code",
   "execution_count": 23,
   "metadata": {},
   "outputs": [
    {
     "name": "stdout",
     "output_type": "stream",
     "text": [
      "<class 'pandas.core.frame.DataFrame'>\n",
      "RangeIndex: 100 entries, 0 to 99\n",
      "Data columns (total 8 columns):\n",
      " #   Column                Non-Null Count  Dtype  \n",
      "---  ------                --------------  -----  \n",
      " 0   Name                  100 non-null    object \n",
      " 1   Address               99 non-null     object \n",
      " 2   Phone                 74 non-null     object \n",
      " 3   Category              100 non-null    object \n",
      " 4   Latitude              100 non-null    float64\n",
      " 5   Longitude             100 non-null    float64\n",
      " 6   Rating                100 non-null    float64\n",
      " 7   address_info_address  36 non-null     object \n",
      "dtypes: float64(3), object(5)\n",
      "memory usage: 6.4+ KB\n"
     ]
    }
   ],
   "source": [
    "df.info()"
   ]
  },
  {
   "cell_type": "code",
   "execution_count": 29,
   "metadata": {},
   "outputs": [],
   "source": [
    "df.rename(columns={\"address_info_address\":\"Town\"},inplace=True)"
   ]
  },
  {
   "cell_type": "code",
   "execution_count": 30,
   "metadata": {},
   "outputs": [
    {
     "data": {
      "text/plain": [
       "Index(['Name', 'Address', 'Phone', 'Category', 'Latitude', 'Longitude',\n",
       "       'Rating', 'Town'],\n",
       "      dtype='object')"
      ]
     },
     "execution_count": 30,
     "metadata": {},
     "output_type": "execute_result"
    }
   ],
   "source": [
    "df.columns"
   ]
  },
  {
   "cell_type": "code",
   "execution_count": 31,
   "metadata": {},
   "outputs": [
    {
     "name": "stdout",
     "output_type": "stream",
     "text": [
      "Data written to silver.MG_Highschools_Kumasi successfully.\n"
     ]
    }
   ],
   "source": [
    "new_schema = 'silver'\n",
    "new_table_name = 'MG_Highschools_Kumasi'\n",
    "\n",
    "# Write DataFrame to the new table in the specified schema in the database\n",
    "df.to_sql(new_table_name, engine, schema=new_schema, if_exists='replace', index=False)\n",
    "\n",
    "print(f\"Data written to {new_schema}.{new_table_name} successfully.\")"
   ]
  },
  {
   "cell_type": "code",
   "execution_count": null,
   "metadata": {},
   "outputs": [],
   "source": []
  }
 ],
 "metadata": {
  "kernelspec": {
   "display_name": "Python 3",
   "language": "python",
   "name": "python3"
  },
  "language_info": {
   "codemirror_mode": {
    "name": "ipython",
    "version": 3
   },
   "file_extension": ".py",
   "mimetype": "text/x-python",
   "name": "python",
   "nbconvert_exporter": "python",
   "pygments_lexer": "ipython3",
   "version": "3.12.4"
  }
 },
 "nbformat": 4,
 "nbformat_minor": 2
}
